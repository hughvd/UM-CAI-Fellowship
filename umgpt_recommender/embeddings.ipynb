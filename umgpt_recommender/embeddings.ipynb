{
 "cells": [
  {
   "cell_type": "code",
   "execution_count": 1,
   "metadata": {},
   "outputs": [],
   "source": [
    "import pandas as pd"
   ]
  },
  {
   "cell_type": "code",
   "execution_count": 2,
   "metadata": {},
   "outputs": [],
   "source": [
    "df = pd.read_csv(r'C:\\Users\\hvand\\OneDrive - Umich\\Documents\\atlas\\course_similarity\\hybrid_course_data.csv')"
   ]
  },
  {
   "cell_type": "code",
   "execution_count": 3,
   "metadata": {},
   "outputs": [
    {
     "name": "stdout",
     "output_type": "stream",
     "text": [
      "Sending a test completion job\n",
      "2 + 2 equals 4.\n"
     ]
    }
   ],
   "source": [
    "from openai import AzureOpenAI\n",
    "import os\n",
    "from dotenv import load_dotenv\n",
    "\n",
    "#Sets the current working directory to be the same as the file.\n",
    "os.chdir(os.path.dirname(os.path.abspath('embeddings.ipynb')))\n",
    "\n",
    "#Load environment file for secrets.\n",
    "try:\n",
    "    if load_dotenv('.env') is False:\n",
    "        raise TypeError\n",
    "except TypeError:\n",
    "    print('Unable to load .env file.')\n",
    "    quit()\n",
    "#Create Azure client\n",
    "client = AzureOpenAI(\n",
    "            api_key=os.environ[\"OPENAI_API_KEY\"],\n",
    "            api_version=os.environ['OPENAI_API_VERSION'],\n",
    "            azure_endpoint=os.environ['OPENAI_API_BASE'],\n",
    "            organization=os.environ['OPENAI_ORGANIZATION_ID']\n",
    "        )\n",
    "\n",
    "# Send a completion call to generate an answer\n",
    "print('Sending a test completion job')\n",
    "\n",
    "response = client.chat.completions.create(\n",
    "        model=\"gpt-4-32k\",\n",
    "        messages=[\n",
    "            {\"role\": \"system\", \"content\": \"You are a helpful assistant.\"},\n",
    "            {\"role\": \"user\", \"content\": \"What is 2 + 2?\"}\n",
    "        ],\n",
    "        temperature=0,\n",
    "        stop=None)\n",
    "\n",
    "#Print response.\n",
    "print(response.choices[0].message.content)"
   ]
  },
  {
   "cell_type": "code",
   "execution_count": 4,
   "metadata": {},
   "outputs": [
    {
     "data": {
      "text/html": [
       "<div>\n",
       "<style scoped>\n",
       "    .dataframe tbody tr th:only-of-type {\n",
       "        vertical-align: middle;\n",
       "    }\n",
       "\n",
       "    .dataframe tbody tr th {\n",
       "        vertical-align: top;\n",
       "    }\n",
       "\n",
       "    .dataframe thead th {\n",
       "        text-align: right;\n",
       "    }\n",
       "</style>\n",
       "<table border=\"1\" class=\"dataframe\">\n",
       "  <thead>\n",
       "    <tr style=\"text-align: right;\">\n",
       "      <th></th>\n",
       "      <th>course</th>\n",
       "      <th>description</th>\n",
       "    </tr>\n",
       "  </thead>\n",
       "  <tbody>\n",
       "    <tr>\n",
       "      <th>0</th>\n",
       "      <td>AAS 103</td>\n",
       "      <td>In recent years the news coverage of Africa ha...</td>\n",
       "    </tr>\n",
       "    <tr>\n",
       "      <th>1</th>\n",
       "      <td>AAS 104</td>\n",
       "      <td>Hum Seminar</td>\n",
       "    </tr>\n",
       "    <tr>\n",
       "      <th>2</th>\n",
       "      <td>AAS 111</td>\n",
       "      <td>Africa is the second largest continent on eart...</td>\n",
       "    </tr>\n",
       "    <tr>\n",
       "      <th>3</th>\n",
       "      <td>AAS 115</td>\n",
       "      <td>This course is an introduction to spoken and w...</td>\n",
       "    </tr>\n",
       "    <tr>\n",
       "      <th>4</th>\n",
       "      <td>AAS 116</td>\n",
       "      <td>This introductory-level course is designed for...</td>\n",
       "    </tr>\n",
       "    <tr>\n",
       "      <th>...</th>\n",
       "      <td>...</td>\n",
       "      <td>...</td>\n",
       "    </tr>\n",
       "    <tr>\n",
       "      <th>14462</th>\n",
       "      <td>POLSCI 816</td>\n",
       "      <td>This course provides an introduction to estima...</td>\n",
       "    </tr>\n",
       "    <tr>\n",
       "      <th>14463</th>\n",
       "      <td>PSYCH 841</td>\n",
       "      <td>Functional MRI has become one of the leading m...</td>\n",
       "    </tr>\n",
       "    <tr>\n",
       "      <th>14464</th>\n",
       "      <td>SW 858</td>\n",
       "      <td>This course is concerned with analyzing the di...</td>\n",
       "    </tr>\n",
       "    <tr>\n",
       "      <th>14465</th>\n",
       "      <td>SW 874</td>\n",
       "      <td>This seminar provides a foundation and overvie...</td>\n",
       "    </tr>\n",
       "    <tr>\n",
       "      <th>14466</th>\n",
       "      <td>THEORY 551</td>\n",
       "      <td>Advanced Aural Skills</td>\n",
       "    </tr>\n",
       "  </tbody>\n",
       "</table>\n",
       "<p>14467 rows × 2 columns</p>\n",
       "</div>"
      ],
      "text/plain": [
       "           course                                        description\n",
       "0         AAS 103  In recent years the news coverage of Africa ha...\n",
       "1         AAS 104                                        Hum Seminar\n",
       "2         AAS 111  Africa is the second largest continent on eart...\n",
       "3         AAS 115  This course is an introduction to spoken and w...\n",
       "4         AAS 116  This introductory-level course is designed for...\n",
       "...           ...                                                ...\n",
       "14462  POLSCI 816  This course provides an introduction to estima...\n",
       "14463   PSYCH 841  Functional MRI has become one of the leading m...\n",
       "14464      SW 858  This course is concerned with analyzing the di...\n",
       "14465      SW 874  This seminar provides a foundation and overvie...\n",
       "14466  THEORY 551                              Advanced Aural Skills\n",
       "\n",
       "[14467 rows x 2 columns]"
      ]
     },
     "execution_count": 4,
     "metadata": {},
     "output_type": "execute_result"
    }
   ],
   "source": [
    "df"
   ]
  },
  {
   "cell_type": "code",
   "execution_count": 19,
   "metadata": {},
   "outputs": [],
   "source": [
    "eecs281text = df[df['course'] == 'EECS 281'].description.values[0]"
   ]
  },
  {
   "cell_type": "code",
   "execution_count": 22,
   "metadata": {},
   "outputs": [
    {
     "name": "stdout",
     "output_type": "stream",
     "text": [
      "AAS 103 and AAS 111\n",
      "[[0.86411986]]\n",
      "AAS 103 and EECS 281\n",
      "[[0.72905776]]\n",
      "AAS 111 and EECS 281\n",
      "[[0.71395553]]\n"
     ]
    }
   ],
   "source": [
    "import numpy as np\n",
    "def get_embedding(text, model=os.environ['OPENAI_EMBEDDING_MODEL']):\n",
    "   text = text.replace(\"\\n\", \" \")\n",
    "   return client.embeddings.create(input = [text], model=model).data[0].embedding\n",
    "\n",
    "emb1 = np.array(get_embedding(df.iloc[0].description)).reshape(1, -1)\n",
    "\n",
    "emb2 = np.array(get_embedding(df.iloc[2].description)).reshape(1, -1)\n",
    "\n",
    "emb281 = np.array(get_embedding(eecs281text)).reshape(1,-1)\n",
    "\n",
    "from sklearn.metrics.pairwise import cosine_similarity\n",
    "print(\"AAS 103 and AAS 111\")\n",
    "print(cosine_similarity(emb1, emb2))\n",
    "print(\"AAS 103 and EECS 281\")\n",
    "print(cosine_similarity(emb1, emb281))\n",
    "print(\"AAS 111 and EECS 281\")\n",
    "print(cosine_similarity(emb2, emb281))"
   ]
  },
  {
   "cell_type": "code",
   "execution_count": null,
   "metadata": {},
   "outputs": [],
   "source": [
    "df['ada_embedding'] = df.description.apply(lambda x: get_embedding(x, model='text-embedding-ada-002'))\n",
    "df.to_csv('embedded_df', index=False)"
   ]
  }
 ],
 "metadata": {
  "kernelspec": {
   "display_name": "EECS445",
   "language": "python",
   "name": "python3"
  },
  "language_info": {
   "codemirror_mode": {
    "name": "ipython",
    "version": 3
   },
   "file_extension": ".py",
   "mimetype": "text/x-python",
   "name": "python",
   "nbconvert_exporter": "python",
   "pygments_lexer": "ipython3",
   "version": "3.11.7"
  }
 },
 "nbformat": 4,
 "nbformat_minor": 2
}
