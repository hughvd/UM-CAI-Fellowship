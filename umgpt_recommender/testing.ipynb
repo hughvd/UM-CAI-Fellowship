{
 "cells": [
  {
   "cell_type": "code",
   "execution_count": 1,
   "metadata": {},
   "outputs": [
    {
     "name": "stdout",
     "output_type": "stream",
     "text": [
      "Initializing...\n"
     ]
    }
   ],
   "source": [
    "import umgpt_recommender\n",
    "import pandas as pd\n",
    "df = pd.read_csv(r'C:\\Users\\hvand\\OneDrive - Umich\\Documents\\atlas\\course_similarity\\hybrid_course_data.csv')\n",
    "rec = umgpt_recommender.Recommender(df)"
   ]
  },
  {
   "cell_type": "code",
   "execution_count": 2,
   "metadata": {},
   "outputs": [
    {
     "name": "stdout",
     "output_type": "stream",
     "text": [
      "Recommending...\n",
      "Initial filter\n",
      "Initial keywords:\n",
      "['\"english', 'modeling', 'social issues', 'social modeling', 'statistics for social sciences', 'sociology', 'political science', 'economics', 'public policy', 'data analysis', 'qualitative research', 'quantitative research', 'social research methods\"']\n",
      "Initial size: 557\n",
      "Begin filter loop\n",
      "Filtering...\n",
      "Keywords 0:\n",
      "\"behavioral science, social psychology, social dynamics, systems theory, social network analysis, computational social science, policy modeling, social simulation, social systems, humanities, interdisciplinary studies\"\n",
      "Cycle 1: 18\n",
      "Final df size: 18\n",
      "Final recommendation 2\n",
      "Returning...\n",
      "Based on your interest in modeling for social issues, I would recommend the following courses:\n",
      "\n",
      "1. Course CMPLXSYS 391: This class provides an interdisciplinary introduction to modeling social systems. It covers a variety of models from different fields and teaches students how to apply them in many contexts. This course seems to align perfectly with your interest in modeling for social issues.\n",
      "\n",
      "2. Course POLSCI 391: This course is similar to CMPLXSYS 391, providing an interdisciplinary introduction to modeling social systems. It also covers a variety of models from different fields and teaches students how to apply them in many contexts.\n",
      "\n",
      "3. Course POLSCI 793: This course focuses on the process of sense making, which involves attribution, framing, pattern recognition, learning, and emotion. It includes applications from various disciplines, including political science, social psychology, cognitive psychology, cultural anthropology, behavioral economics, business, sociology, and artificial intelligence.\n",
      "\n",
      "4. Course ASIANPAM 301: While this course is not directly related to modeling, it does delve deeply into recent scholarly research in the humanities or the social sciences, which could provide useful context and background for your interest in modeling social issues.\n",
      "\n",
      "5. Course LING 111: This course offers a richly interdisciplinary approach to understanding the human condition through the study of language. It could provide a unique perspective on social issues that could be useful in your modeling work.\n",
      "\n",
      "6. Course RACKHAM 619: This graduate reading and discussion seminar provides an intensive introduction to some of the major themes and issues in the field of Science and Technology Studies (STS). It could provide a broader context for your interest in modeling social issues.\n"
     ]
    }
   ],
   "source": [
    "student = 'Hello! I am an English major. I am not very good at math, but I find modeling, especially for social issues, to be really interesting. What are some courses I can take to explore this area?'\n",
    "recommendation = rec.recommend(student)"
   ]
  },
  {
   "cell_type": "code",
   "execution_count": 2,
   "metadata": {},
   "outputs": [
    {
     "name": "stdout",
     "output_type": "stream",
     "text": [
      "Recommending...\n",
      "Initial filter\n",
      "Initial keywords:\n",
      "['\"easy courses', 'beginner level', 'introductory courses', 'basic concepts', 'fundamentals', 'general education', 'elective courses\"']\n",
      "Initial size: 183\n",
      "Begin filter loop\n",
      "Filtering...\n",
      "Keywords 0:\n",
      "\"low difficulty, beginner-friendly, no prerequisites, entry level, foundational courses, survey courses, first year courses\"\n",
      "Cycle 1: 0\n",
      "Final df size: 0\n",
      "Returning...\n",
      "1. Introduction to Psychology\n",
      "2. Basic Photography\n",
      "3. Creative Writing\n",
      "4. Introduction to Sociology\n",
      "5. Fundamentals of Music\n",
      "6. Introduction to Philosophy\n",
      "7. Basic Drawing\n",
      "8. Introduction to Astronomy\n",
      "9. Introduction to Computer Science\n",
      "10. Basic Cooking\n",
      "\n",
      "Recommendations:\n",
      "\n",
      "1. Introduction to Psychology: This course is recommended as it provides a basic understanding of human behavior and mental processes. It's generally considered easy due to its focus on concepts and theories rather than hard facts.\n",
      "\n",
      "2. Basic Photography: This course is recommended for its practicality and creativity. It's considered easy as it relies more on creativity and less on academic rigor.\n",
      "\n",
      "3. Creative Writing: This course is recommended for its focus on personal expression and creativity. It's considered easy as it allows for subjective grading and personal interpretation.\n",
      "\n",
      "4. Introduction to Computer Science: This course is recommended as it provides a basic understanding of the digital world we live in. It's considered easy for those who have a knack for logical thinking and problem-solving.\n",
      "\n",
      "5. Basic Cooking: This course is recommended for its practical life skills. It's considered easy as it involves hands-on learning and practical assessments.\n",
      "\n",
      "Remember, the 'easiest' course can vary greatly depending on a student's strengths, interests, and previous knowledge. It's always best to choose courses that align with your career goals and personal interests.\n"
     ]
    }
   ],
   "source": [
    "student = 'Recommend me the easiest courses.'\n",
    "recommendation = rec.recommend(student)"
   ]
  },
  {
   "cell_type": "code",
   "execution_count": null,
   "metadata": {},
   "outputs": [],
   "source": []
  }
 ],
 "metadata": {
  "kernelspec": {
   "display_name": "EECS445",
   "language": "python",
   "name": "python3"
  },
  "language_info": {
   "codemirror_mode": {
    "name": "ipython",
    "version": 3
   },
   "file_extension": ".py",
   "mimetype": "text/x-python",
   "name": "python",
   "nbconvert_exporter": "python",
   "pygments_lexer": "ipython3",
   "version": "3.11.7"
  }
 },
 "nbformat": 4,
 "nbformat_minor": 2
}
