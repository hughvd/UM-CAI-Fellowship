{
 "cells": [
  {
   "cell_type": "code",
   "execution_count": 1,
   "metadata": {},
   "outputs": [
    {
     "name": "stdout",
     "output_type": "stream",
     "text": [
      "Initializing...\n"
     ]
    }
   ],
   "source": [
    "import umgpt_recommender\n",
    "import pandas as pd\n",
    "df = pd.read_csv(r'C:\\Users\\hvand\\OneDrive - Umich\\Documents\\atlas\\course_similarity\\hybrid_course_data.csv')\n",
    "rec = umgpt_recommender.Recommender(df)"
   ]
  },
  {
   "cell_type": "code",
   "execution_count": 2,
   "metadata": {},
   "outputs": [
    {
     "name": "stdout",
     "output_type": "stream",
     "text": [
      "Recommending...\n",
      "Initial filter\n",
      "Initial keywords:\n",
      "['\"english', 'modeling', 'social issues', 'social modeling', 'statistics for social sciences', 'sociology', 'political science', 'economics', 'public policy', 'data analysis', 'qualitative research', 'quantitative research', 'social research methods\"']\n",
      "Initial size: 557\n",
      "Begin filter loop\n",
      "Filtering...\n",
      "Keywords 0:\n",
      "\"behavioral science, social psychology, social dynamics, systems theory, social network analysis, computational social science, policy modeling, social simulation, social systems, humanities, interdisciplinary studies\"\n",
      "Cycle 1: 18\n",
      "Final df size: 18\n",
      "Final recommendation 2\n",
      "Returning...\n",
      "Based on your interest in modeling for social issues, I would recommend the following courses:\n",
      "\n",
      "1. Course CMPLXSYS 391: This class provides an interdisciplinary introduction to modeling social systems. It covers a variety of models from different fields and teaches students how to apply them in many contexts. This course seems to align perfectly with your interest in modeling for social issues.\n",
      "\n",
      "2. Course POLSCI 391: This course is similar to CMPLXSYS 391, providing an interdisciplinary introduction to modeling social systems. It also covers a variety of models from different fields and teaches students how to apply them in many contexts.\n",
      "\n",
      "3. Course POLSCI 793: This course focuses on the process of sense making, which involves attribution, framing, pattern recognition, learning, and emotion. It includes applications from various disciplines, including political science, social psychology, cognitive psychology, cultural anthropology, behavioral economics, business, sociology, and artificial intelligence.\n",
      "\n",
      "4. Course ASIANPAM 301: While this course is not directly related to modeling, it does delve deeply into recent scholarly research in the humanities or the social sciences, which could provide useful context and background for your interest in modeling social issues.\n",
      "\n",
      "5. Course LING 111: This course offers a richly interdisciplinary approach to understanding the human condition through the study of language. It could provide a unique perspective on social issues that could be useful in your modeling work.\n",
      "\n",
      "6. Course RACKHAM 619: This graduate reading and discussion seminar provides an intensive introduction to some of the major themes and issues in the field of Science and Technology Studies (STS). It could provide a broader context for your interest in modeling social issues.\n"
     ]
    }
   ],
   "source": [
    "student = 'Hello! I am an English major. I am not very good at math, but I find modeling, especially for social issues, to be really interesting. What are some courses I can take to explore this area?'\n",
    "recommendation = rec.recommend(student)"
   ]
  },
  {
   "cell_type": "code",
   "execution_count": 2,
   "metadata": {},
   "outputs": [
    {
     "name": "stdout",
     "output_type": "stream",
     "text": [
      "Recommending...\n",
      "Initial filter\n",
      "Initial keywords:\n",
      "['\"easy courses', 'beginner level', 'introductory courses', 'basic concepts', 'fundamentals', 'general education', 'elective courses\"']\n",
      "Initial size: 183\n",
      "Begin filter loop\n",
      "Filtering...\n",
      "Keywords 0:\n",
      "\"low difficulty, beginner-friendly, no prerequisites, entry level, foundational courses, survey courses, first year courses\"\n",
      "Cycle 1: 0\n",
      "Final df size: 0\n",
      "Returning...\n",
      "1. Introduction to Psychology\n",
      "2. Basic Photography\n",
      "3. Creative Writing\n",
      "4. Introduction to Sociology\n",
      "5. Fundamentals of Music\n",
      "6. Introduction to Philosophy\n",
      "7. Basic Drawing\n",
      "8. Introduction to Astronomy\n",
      "9. Introduction to Computer Science\n",
      "10. Basic Cooking\n",
      "\n",
      "Recommendations:\n",
      "\n",
      "1. Introduction to Psychology: This course is recommended as it provides a basic understanding of human behavior and mental processes. It's generally considered easy due to its focus on concepts and theories rather than hard facts.\n",
      "\n",
      "2. Basic Photography: This course is recommended for its practicality and creativity. It's considered easy as it relies more on creativity and less on academic rigor.\n",
      "\n",
      "3. Creative Writing: This course is recommended for its focus on personal expression and creativity. It's considered easy as it allows for subjective grading and personal interpretation.\n",
      "\n",
      "4. Introduction to Computer Science: This course is recommended as it provides a basic understanding of the digital world we live in. It's considered easy for those who have a knack for logical thinking and problem-solving.\n",
      "\n",
      "5. Basic Cooking: This course is recommended for its practical life skills. It's considered easy as it involves hands-on learning and practical assessments.\n",
      "\n",
      "Remember, the 'easiest' course can vary greatly depending on a student's strengths, interests, and previous knowledge. It's always best to choose courses that align with your career goals and personal interests.\n"
     ]
    }
   ],
   "source": [
    "student = 'Recommend me the easiest courses.'\n",
    "recommendation = rec.recommend(student)"
   ]
  },
  {
   "cell_type": "code",
   "execution_count": 2,
   "metadata": {},
   "outputs": [
    {
     "name": "stdout",
     "output_type": "stream",
     "text": [
      "Recommending...\n",
      "Initial filter\n",
      "Initial keywords:\n",
      "['\"computer science', 'algorithms', 'theory', 'data structures', 'discrete mathematics', 'computation', 'computational complexity\"']\n",
      "Initial size: 780\n",
      "Begin filter loop\n",
      "Filtering...\n",
      "Keywords 0:\n",
      "\"programming, calculus, linear algebra, statistics, machine learning, artificial intelligence, cryptography, graph theory, number theory\"\n",
      "Cycle 1: 78\n",
      "Final df size: 78\n",
      "Returning...\n",
      "1. Course CSE 574: Fundamentals of the theory of computation and complex theory. This course covers the fundamentals of computation theory, which is a crucial aspect of computer science theory. It includes topics such as computability, undecidability, and logic, all of which are essential for a math major interested in computer science theory.\n",
      "\n",
      "2. Course CSE 586: Design of algorithms for nonnumeric problems. This course focuses on algorithm design, a key component of computer science theory. It covers various design techniques applied to polynomial and NP-hard problems, which would be beneficial for a math major.\n",
      "\n",
      "3. Course EECS 574: Fundamentals of the theory of computation and complex theory. Similar to CSE 574, this course covers the fundamentals of computation theory, including topics like complexity classes, NP-completeness, and randomized computation.\n",
      "\n",
      "4. Course EECS 586: Design of algorithms for nonnumeric problems. This course, like CSE 586, focuses on algorithm design, covering various techniques applied to polynomial and NP-hard problems.\n",
      "\n",
      "5. Course STATS 506: Selected topics in computational statistics. This course covers computational statistics, which combines elements of both mathematics and computer science theory. It includes topics like managing and processing large data sets and optimization, which would be beneficial for a math major interested in computer science theory.\n",
      "\n",
      "6. Course MATH 465: Combinatorics is the study of finite mathematical objects, including their enumeration, structural properties, design, and optimization. This course provides an elementary introduction to the fundamental notions, techniques, and theorems of enumerative combinatorics and graph theory, which are essential in computer science theory.\n",
      "\n",
      "7. Course EECS 445: Theory and implementation of state of the art machine learning algorithms for large-scale real-world applications. This course covers machine learning algorithms, a key component of computer science theory. It includes topics like supervised learning, unsupervised learning, and regularization, all of which are essential for a math major interested in computer science theory.\n",
      "\n",
      "8. Course EECS 492: Introduction to the core concepts of AI, organized around building computational agents. This course covers the core concepts of artificial intelligence, a key component of computer science theory. It includes topics like search, logic, knowledge representation, reasoning, planning, decision making under uncertainty, and machine learning, all of which are essential for a math major interested in computer science theory.\n"
     ]
    }
   ],
   "source": [
    "student = 'I am a math major interested in computer science theory, what are some courses that may interest me?'\n",
    "recommendation = rec.recommend(student)"
   ]
  },
  {
   "cell_type": "code",
   "execution_count": 3,
   "metadata": {},
   "outputs": [
    {
     "name": "stdout",
     "output_type": "stream",
     "text": [
      "Recommending...\n",
      "Initial filter\n",
      "Initial keywords:\n",
      "['\"art and technology', 'digital art', 'augmented reality', 'virtual reality', 'interactive media', 'computer graphics', '3d modeling', 'animation', 'visual effects', 'game design', 'user interface design', 'digital painting\"']\n",
      "Initial size: 13\n",
      "Begin filter loop\n",
      "Final df size: 13\n",
      "Returning...\n",
      "1. Course ARTDES 195: Aug&Virtual Reality - This course directly addresses your interest in augmented and virtual reality. It will likely provide an introduction to these technologies and how they can be used in artistic contexts.\n",
      "\n",
      "2. Course ARTDES 278: Aug&Virtual Reality - Similar to ARTDES 195, this course will delve into augmented and virtual reality. It's unclear how this course differs from ARTDES 195, but it may offer a more advanced or different perspective on these technologies.\n",
      "\n",
      "3. Course ARTDES 178: Animation - This course will help you understand the principles of animation, which are crucial in creating engaging AR and VR experiences. It also covers digital animation in two and three dimensions, which could be very useful for your interests.\n",
      "\n",
      "4. Course ARTDES 243: Intro to Animation - This course could provide a good foundation in animation, which is often used in AR and VR. It could be a good starting point before moving onto more advanced courses.\n",
      "\n",
      "5. Course ARTDES 432: Advanced Animation - This course could be useful once you've mastered the basics of animation. Advanced animation skills could be very useful in creating sophisticated AR and VR art.\n",
      "\n",
      "6. Course EECS 487: Computer Graphics - While this course may be more technical, it could provide valuable knowledge on how graphics are created and manipulated, which is crucial in AR and VR. It covers a wide range of topics, including animation, virtual reality, and scientific visualization.\n",
      "\n",
      "7. Course EECS 494: Game Design and Development - This course could be useful as it covers 2D and 3D animation, game design, and user interfaces, all of which are relevant to AR and VR. It also covers game SDK’s and game development environments, which could be useful if you're interested in creating interactive AR or VR experiences.\n",
      "\n",
      "Rationale: These courses were chosen because they cover topics directly related to your interest in integrating art with technology, particularly in the areas of augmented reality and virtual reality. They offer a mix of practical skills (like animation and computer graphics) and theoretical knowledge (like game design and user interfaces). Some of these courses may be more technical than others, but they all offer valuable knowledge that could help you explore the intersection of art and technology.\n"
     ]
    }
   ],
   "source": [
    "student = '''Hi! I'm an Art major with a focus on painting. Recently, I've become interested in how art can intersect with technology, \n",
    "particularly in areas like augmented reality (AR) and virtual reality (VR). I'm not very tech-savvy, though. What courses would be \n",
    "suitable for someone like me to explore the integration of art and technology?'''\n",
    "recommendation = rec.recommend(student)"
   ]
  },
  {
   "cell_type": "code",
   "execution_count": 4,
   "metadata": {},
   "outputs": [
    {
     "name": "stdout",
     "output_type": "stream",
     "text": [
      "Recommending...\n",
      "Initial filter\n",
      "Initial keywords:\n",
      "['\"introductory stem', 'general science', 'basic mathematics', 'introductory physics', \"beginner's chemistry\", 'environmental science', 'computer science fundamentals', 'biology basics', 'humanities', 'lsa\"']\n",
      "Initial size: 100\n",
      "Begin filter loop\n",
      "Final df size: 100\n",
      "Returning...\n",
      "1. Course CSP 104: This course introduces students to significant ideas in mathematics, focusing on rigorous mathematical reasoning rather than notation or computation. It covers topics like number theory, the nature of infinity, fractals and chaos, and elementary probability and statistics. This course is ideal for a humanities-focused student looking to explore STEM as it presents mathematics as containing some of the greatest ideas in human history.\n",
      "\n",
      "2. Course EARTH 202: This course examines earth and environmental science in the Rocky Mountain West. It aims to understand how natural and human processes have caused environmental change in the past and present. This course offers a hands-on experience and observation-based learning, making it a good choice for a humanities student interested in environmental science.\n",
      "\n",
      "3. Course EARTH 219: This course is about Environmental Science, a highly integrative subject that seeks to understand the science underlying the natural processes that take place on Earth. It aims to develop an understanding of the natural world and gain insight into the environmental perturbations being inflicted on the natural system by humans. This course is suitable for a humanities student interested in understanding the impact of human activities on the environment.\n",
      "\n",
      "4. Course PHYSICS 115: This is an introductory mini-course on the foundations of physics. It is tailored for students seeking to better prepare for success in the core introductory courses. This course is a good choice for a humanities student looking to gain a basic understanding of physics.\n",
      "\n",
      "5. Course STATS 403: This course provides an introduction to quantitative methods for research studies. It covers issues of study design, implementation, data analysis, and interpretation and communication of results. This course is ideal for a humanities student interested in learning how statistical methods are used by researchers to plan effective studies and draw meaningful conclusions from their data.\n"
     ]
    }
   ],
   "source": [
    "student = '''I am a freshman in LSA who is undecided about what major I want to take. I am more humanities focused, \n",
    "but I want to take an intro level class that is more STEM oriented. What are some classes that I could take?'''\n",
    "recommendation = rec.recommend(student)"
   ]
  },
  {
   "cell_type": "code",
   "execution_count": 5,
   "metadata": {},
   "outputs": [
    {
     "name": "stdout",
     "output_type": "stream",
     "text": [
      "Recommending...\n",
      "Initial filter\n",
      "Initial keywords:\n",
      "['\"environmental science', 'climate change', 'sustainable technologies', 'environmental policies', 'economics', 'environmental economics', 'sustainability', 'policy making', 'economic policy', 'green technology', 'renewable energy', 'resource management\"']\n",
      "Initial size: 279\n",
      "Begin filter loop\n",
      "Filtering...\n",
      "Keywords 0:\n",
      "\"ecological economics, environmental law, environmental impact assessment, sustainable development, energy policy, carbon economics, climate economics, environmental regulation, natural resource economics, sustainability science, environmental policy analysis, cost-benefit analysis\"\n",
      "Cycle 1: 28\n",
      "Final df size: 28\n",
      "Returning...\n",
      "1. Course EAS 574: This course provides a comprehensive assessment of the current energy system, including resource extraction, conversion processes, and end-uses. It explores responses to current challenges such as declining fossil fuels and climate change, including unconventional fossil fuels, carbon sequestration, emerging technologies, and end-use efficiency and conservation. The course also examines sustainability by studying global and regional environmental impacts, economics, energy efficiency, consumption patterns, and energy policy. This will help you understand the economic aspects of environmental policies.\n",
      "\n",
      "2. Course ENVIRON 210: This course explores the physics, politics, economics, and environmental impact of the production, distribution, and use of known sources of energy. It allows students to work in groups to craft viable energy plans for the future, considering cost, environmental and human risk, and larger geopolitical impacts. This will give you a practical understanding of the economic aspects of environmental policies.\n",
      "\n",
      "3. Course EHS 588: This course introduces students to the field of environmental law and regulation, focusing on the major federal environmental pollution statutes. It also discusses natural resource protection, the Gulf oil spill, and climate change. The last two lectures focus on how far regulations can go before they constitute an unconstitutional taking of property. This will help you understand the legal and economic aspects of environmental policies.\n",
      "\n",
      "4. Course PUBPOL 519: Similar to EAS 574, this course provides an assessment of the current energy system and explores responses to current challenges. It examines sustainability by studying global and regional environmental impacts, economics, energy efficiency, consumption patterns, and energy policy. This will help you understand the economic aspects of environmental policies.\n",
      "\n",
      "5. Course ENVIRON 475: Similar to EHS 588, this course introduces students to the field of environmental law and regulation, focusing on the major federal environmental pollution statutes. It also discusses natural resource protection, the Gulf oil spill, and climate change. The last two lectures focus on how far regulations can go before they constitute an unconstitutional taking of property. This will help you understand the legal and economic aspects of environmental policies.\n"
     ]
    }
   ],
   "source": [
    "student = '''Greetings! I'm majoring in Environmental Science and I'm deeply concerned about climate change. \n",
    "I'm looking for courses that focus on sustainable technologies and policies. While I have a strong background in the sciences, \n",
    "I'm less experienced with economics. What courses could help me understand the economic aspects of environmental policies?'''\n",
    "recommendation = rec.recommend(student)"
   ]
  },
  {
   "cell_type": "code",
   "execution_count": null,
   "metadata": {},
   "outputs": [],
   "source": []
  }
 ],
 "metadata": {
  "kernelspec": {
   "display_name": "EECS445",
   "language": "python",
   "name": "python3"
  },
  "language_info": {
   "codemirror_mode": {
    "name": "ipython",
    "version": 3
   },
   "file_extension": ".py",
   "mimetype": "text/x-python",
   "name": "python",
   "nbconvert_exporter": "python",
   "pygments_lexer": "ipython3",
   "version": "3.11.7"
  }
 },
 "nbformat": 4,
 "nbformat_minor": 2
}
