{
 "cells": [
  {
   "cell_type": "code",
   "execution_count": 1,
   "metadata": {
    "metadata": {}
   },
   "outputs": [
    {
     "name": "stdout",
     "output_type": "stream",
     "text": [
      "Initializing...\n"
     ]
    }
   ],
   "source": [
    "import umgpt_recommender\n",
    "import pandas as pd\n",
    "df = pd.read_csv(r'C:\\Users\\hvand\\OneDrive - Umich\\Documents\\atlas\\course_similarity\\hybrid_course_data.csv')\n",
    "rec = umgpt_recommender.Recommender(df)"
   ]
  },
  {
   "cell_type": "code",
   "execution_count": 2,
   "metadata": {
    "metadata": {}
   },
   "outputs": [
    {
     "name": "stdout",
     "output_type": "stream",
     "text": [
      "Recommending...\n",
      "Initial filter\n",
      "Initial keywords:\n",
      "['\"political science', 'asian studies', 'china', 'asian american studies', 'international relations', 'comparative politics', 'east asian politics', 'chinese history', 'chinese culture', 'chinese politics\"']\n",
      "Initial size: 149\n",
      "Begin filter loop\n",
      "Final df size: 149\n",
      "Returning...\n",
      "1. Course AAS 111: This course provides a comprehensive introduction to Africa and its diaspora, including the impact of Africans and people of African descent on the world's languages, cultures, and religious practices. It also explores Africa's influence on the rest of the world, including China. This course would be beneficial for understanding the global impact of Africa and its diaspora, including their influence on Asia and China.\n",
      "\n",
      "2. Course AAS 408: This course examines the origins and nature of economic and social development in Africa, including the impact of China on Africa. It would be beneficial for understanding the economic and social dynamics between Africa and China.\n",
      "\n",
      "3. Course ANTHRCUL 332: This course explores the cross-cultural study of value, with readings drawing on research in Africa, the Pacific, Latin America, China, Russia, and the contemporary USA. It would be beneficial for understanding the cultural and economic systems of different regions, including China.\n",
      "\n",
      "4. Course ANTHRCUL 333: This course explores the anthropological study of law, including the impact of Western law on non-Western societies and law, such as China. It would be beneficial for understanding the legal systems and practices in different cultures, including China.\n",
      "\n",
      "5. Course ANTHRCUL 402: This course explores the enormous changes in mainland China in the 20th century. It would be beneficial for understanding the historical and social transformations in China.\n",
      "\n",
      "6. Course ASIAN 204: This course offers an overview of more than three thousand years of East Asian History, including China. It would be beneficial for understanding the historical, social, and cultural transformations in East Asia, including China.\n",
      "\n",
      "7. Course ASIAN 205: This course is an introduction to modern China, Korea, and Japan from 1600 to the present. It would be beneficial for understanding the modern history and development of East Asian countries, including China.\n",
      "\n",
      "8. Course ASIAN 230: This course explores the major themes in Buddhist thought and practice, which has a significant influence in China. It would be beneficial for understanding the religious and philosophical traditions in China.\n",
      "\n",
      "9. Course ASIAN 261: This course explores the historical dimensions of the Chinese language and its impact on the world. It would be beneficial for understanding the linguistic and cultural aspects of China.\n",
      "\n",
      "10. Course ASIAN 263: This course explores the philosophical ideas of major figures and works of classical China. It would be beneficial for understanding the philosophical traditions and ideas in China.\n"
     ]
    }
   ],
   "source": [
    "student = 'I am a political science major interested in asian studies and specifically china. I also enjoy asian american studies.'\n",
    "recommendation = rec.recommend(student)"
   ]
  },
  {
   "cell_type": "code",
   "execution_count": 2,
   "metadata": {},
   "outputs": [
    {
     "name": "stdout",
     "output_type": "stream",
     "text": [
      "Recommending...\n",
      "Initial filter\n",
      "Initial keywords:\n",
      "['\"easy courses', 'beginner level', 'introductory courses', 'basic concepts', 'fundamentals', 'general education', 'elective courses\"']\n",
      "Initial size: 183\n",
      "Begin filter loop\n",
      "Filtering...\n",
      "Keywords 0:\n",
      "\"low difficulty, beginner-friendly, no prerequisites, entry level, foundational courses, survey courses, first year courses\"\n",
      "Cycle 1: 0\n",
      "Final df size: 0\n",
      "Returning...\n",
      "1. Introduction to Psychology\n",
      "2. Basic Photography\n",
      "3. Creative Writing\n",
      "4. Introduction to Sociology\n",
      "5. Fundamentals of Music\n",
      "6. Introduction to Philosophy\n",
      "7. Basic Drawing\n",
      "8. Introduction to Astronomy\n",
      "9. Introduction to Computer Science\n",
      "10. Basic Cooking\n",
      "\n",
      "Recommendations:\n",
      "\n",
      "1. Introduction to Psychology: This course is recommended as it provides a basic understanding of human behavior and mental processes. It's generally considered easy due to its focus on concepts and theories rather than hard facts.\n",
      "\n",
      "2. Basic Photography: This course is recommended for its practicality and creativity. It's considered easy as it relies more on creativity and less on academic rigor.\n",
      "\n",
      "3. Creative Writing: This course is recommended for its focus on personal expression and creativity. It's considered easy as it allows for subjective grading and personal interpretation.\n",
      "\n",
      "4. Introduction to Computer Science: This course is recommended as it provides a basic understanding of the digital world we live in. It's considered easy for those who have a knack for logical thinking and problem-solving.\n",
      "\n",
      "5. Basic Cooking: This course is recommended for its practical life skills. It's considered easy as it involves hands-on learning and practical assessments.\n",
      "\n",
      "Remember, the 'easiest' course can vary greatly depending on a student's strengths, interests, and previous knowledge. It's always best to choose courses that align with your career goals and personal interests.\n"
     ]
    }
   ],
   "source": [
    "student = 'Recommend me the easiest courses.'\n",
    "recommendation = rec.recommend(student)"
   ]
  },
  {
   "cell_type": "code",
   "execution_count": 2,
   "metadata": {
    "metadata": {}
   },
   "outputs": [
    {
     "name": "stdout",
     "output_type": "stream",
     "text": [
      "Recommending...\n",
      "Initial filter\n",
      "Initial keywords:\n",
      "['\"computer science', 'algorithms', 'theory', 'data structures', 'discrete mathematics', 'computation', 'computational complexity\"']\n",
      "Initial size: 188\n",
      "Begin filter loop\n",
      "Filtering...\n",
      "Keywords 0:\n",
      "\"programming, calculus, linear algebra, statistics, machine learning, artificial intelligence, cryptography, graph theory, number theory\"\n",
      "Cycle 1: 21\n",
      "Final df size: 21\n",
      "Returning...\n",
      "1. Course EECS 203: This course covers the mathematical foundations of computer science, including topics such as propositional and predicate logic, set theory, function and relations, growth of functions and asymptotic notation, introduction to algorithms, elementary combinatorics and graph theory and discrete probability theory. This will be beneficial for a math major interested in computer science theory as it provides a solid foundation in the mathematical concepts used in computer science.\n",
      "\n",
      "2. Course EECS 353: This course focuses on the theory and application of matrix algorithms to signal processing, data analysis and machine learning. As a math major, you will likely find the theoretical aspects of this course interesting and the applications to machine learning will provide a good introduction to a key area of computer science.\n",
      "\n",
      "3. Course EECS 376: This course provides an introduction to the theory of computation, including models of computation, decidable and undecidable problems, polynomial time computability and paradigms of algorithm design, computational complexity emphasizing NP-hardness, and cryptography. This course will be particularly relevant if you are interested in the theoretical aspects of computer science.\n",
      "\n",
      "4. Course MATH 216: This course covers linear algebra and differential equations, which are fundamental mathematical concepts used in computer science. This course emphasizes problem-solving and applications, which will be useful for a math major interested in computer science.\n",
      "\n",
      "5. Course MATH 217: This course also covers linear algebra and differential equations, but with a greater emphasis on the theory of mathematics. This course will be beneficial if you are interested in the theoretical underpinnings of the mathematical concepts used in computer science.\n",
      "\n",
      "6. Course PHIL 340: This course explores theories of the human mind and their relation to models of computation. It provides an interdisciplinary approach to understanding computation, drawing on philosophy, psychology, and computer science. This course will provide a broader perspective on computation and its relation to cognition.\n",
      "\n",
      "7. Course QMSS 251: This course provides a hands-on, non-technical introduction to the methods and ideas of Computational Social Science. It will be beneficial for understanding how computer science methods are applied to social science questions.\n"
     ]
    }
   ],
   "source": [
    "student = 'I am a math major interested in computer science theory, what are some courses that may interest me?'\n",
    "recommendation = rec.recommend(levels=[100, 200, 300], query=student)"
   ]
  },
  {
   "cell_type": "code",
   "execution_count": 3,
   "metadata": {},
   "outputs": [
    {
     "name": "stdout",
     "output_type": "stream",
     "text": [
      "Recommending...\n",
      "Initial filter\n",
      "Initial keywords:\n",
      "['\"art and technology', 'digital art', 'augmented reality', 'virtual reality', 'interactive media', 'computer graphics', '3d modeling', 'animation', 'visual effects', 'game design', 'user interface design', 'digital painting\"']\n",
      "Initial size: 13\n",
      "Begin filter loop\n",
      "Final df size: 13\n",
      "Returning...\n",
      "1. Course ARTDES 195: Aug&Virtual Reality - This course directly addresses your interest in augmented and virtual reality. It will likely provide an introduction to these technologies and how they can be used in artistic contexts.\n",
      "\n",
      "2. Course ARTDES 278: Aug&Virtual Reality - Similar to ARTDES 195, this course will delve into augmented and virtual reality. It's unclear how this course differs from ARTDES 195, but it may offer a more advanced or different perspective on these technologies.\n",
      "\n",
      "3. Course ARTDES 178: Animation - This course will help you understand the principles of animation, which are crucial in creating engaging AR and VR experiences. It also covers digital animation in two and three dimensions, which could be very useful for your interests.\n",
      "\n",
      "4. Course ARTDES 243: Intro to Animation - This course could provide a good foundation in animation, which is often used in AR and VR. It could be a good starting point before moving onto more advanced courses.\n",
      "\n",
      "5. Course ARTDES 432: Advanced Animation - This course could be useful once you've mastered the basics of animation. Advanced animation skills could be very useful in creating sophisticated AR and VR art.\n",
      "\n",
      "6. Course EECS 487: Computer Graphics - While this course may be more technical, it could provide valuable knowledge on how graphics are created and manipulated, which is crucial in AR and VR. It covers a wide range of topics, including animation, virtual reality, and scientific visualization.\n",
      "\n",
      "7. Course EECS 494: Game Design and Development - This course could be useful as it covers 2D and 3D animation, game design, and user interfaces, all of which are relevant to AR and VR. It also covers game SDK’s and game development environments, which could be useful if you're interested in creating interactive AR or VR experiences.\n",
      "\n",
      "Rationale: These courses were chosen because they cover topics directly related to your interest in integrating art with technology, particularly in the areas of augmented reality and virtual reality. They offer a mix of practical skills (like animation and computer graphics) and theoretical knowledge (like game design and user interfaces). Some of these courses may be more technical than others, but they all offer valuable knowledge that could help you explore the intersection of art and technology.\n"
     ]
    }
   ],
   "source": [
    "student = '''Hi! I'm an Art major with a focus on painting. Recently, I've become interested in how art can intersect with technology, \n",
    "particularly in areas like augmented reality (AR) and virtual reality (VR). I'm not very tech-savvy, though. What courses would be \n",
    "suitable for someone like me to explore the integration of art and technology?'''\n",
    "recommendation = rec.recommend(student)"
   ]
  },
  {
   "cell_type": "code",
   "execution_count": 4,
   "metadata": {},
   "outputs": [
    {
     "name": "stdout",
     "output_type": "stream",
     "text": [
      "Recommending...\n",
      "Initial filter\n",
      "Initial keywords:\n",
      "['\"introductory stem', 'general science', 'basic mathematics', 'introductory physics', \"beginner's chemistry\", 'environmental science', 'computer science fundamentals', 'biology basics', 'humanities', 'lsa\"']\n",
      "Initial size: 100\n",
      "Begin filter loop\n",
      "Final df size: 100\n",
      "Returning...\n",
      "1. Course CSP 104: This course introduces students to significant ideas in mathematics, focusing on rigorous mathematical reasoning rather than notation or computation. It covers topics like number theory, the nature of infinity, fractals and chaos, and elementary probability and statistics. This course is ideal for a humanities-focused student looking to explore STEM as it presents mathematics as containing some of the greatest ideas in human history.\n",
      "\n",
      "2. Course EARTH 202: This course examines earth and environmental science in the Rocky Mountain West. It aims to understand how natural and human processes have caused environmental change in the past and present. This course offers a hands-on experience and observation-based learning, making it a good choice for a humanities student interested in environmental science.\n",
      "\n",
      "3. Course EARTH 219: This course is about Environmental Science, a highly integrative subject that seeks to understand the science underlying the natural processes that take place on Earth. It aims to develop an understanding of the natural world and gain insight into the environmental perturbations being inflicted on the natural system by humans. This course is suitable for a humanities student interested in understanding the impact of human activities on the environment.\n",
      "\n",
      "4. Course PHYSICS 115: This is an introductory mini-course on the foundations of physics. It is tailored for students seeking to better prepare for success in the core introductory courses. This course is a good choice for a humanities student looking to gain a basic understanding of physics.\n",
      "\n",
      "5. Course STATS 403: This course provides an introduction to quantitative methods for research studies. It covers issues of study design, implementation, data analysis, and interpretation and communication of results. This course is ideal for a humanities student interested in learning how statistical methods are used by researchers to plan effective studies and draw meaningful conclusions from their data.\n"
     ]
    }
   ],
   "source": [
    "student = '''I am a freshman in LSA who is undecided about what major I want to take. I am more humanities focused, \n",
    "but I want to take an intro level class that is more STEM oriented. What are some classes that I could take?'''\n",
    "recommendation = rec.recommend(student)"
   ]
  },
  {
   "cell_type": "code",
   "execution_count": 5,
   "metadata": {},
   "outputs": [
    {
     "name": "stdout",
     "output_type": "stream",
     "text": [
      "Recommending...\n",
      "Initial filter\n",
      "Initial keywords:\n",
      "['\"environmental science', 'climate change', 'sustainable technologies', 'environmental policies', 'economics', 'environmental economics', 'sustainability', 'policy making', 'economic policy', 'green technology', 'renewable energy', 'resource management\"']\n",
      "Initial size: 279\n",
      "Begin filter loop\n",
      "Filtering...\n",
      "Keywords 0:\n",
      "\"ecological economics, environmental law, environmental impact assessment, sustainable development, energy policy, carbon economics, climate economics, environmental regulation, natural resource economics, sustainability science, environmental policy analysis, cost-benefit analysis\"\n",
      "Cycle 1: 28\n",
      "Final df size: 28\n",
      "Returning...\n",
      "1. Course EAS 574: This course provides a comprehensive assessment of the current energy system, including resource extraction, conversion processes, and end-uses. It explores responses to current challenges such as declining fossil fuels and climate change, including unconventional fossil fuels, carbon sequestration, emerging technologies, and end-use efficiency and conservation. The course also examines sustainability by studying global and regional environmental impacts, economics, energy efficiency, consumption patterns, and energy policy. This will help you understand the economic aspects of environmental policies.\n",
      "\n",
      "2. Course ENVIRON 210: This course explores the physics, politics, economics, and environmental impact of the production, distribution, and use of known sources of energy. It allows students to work in groups to craft viable energy plans for the future, considering cost, environmental and human risk, and larger geopolitical impacts. This will give you a practical understanding of the economic aspects of environmental policies.\n",
      "\n",
      "3. Course EHS 588: This course introduces students to the field of environmental law and regulation, focusing on the major federal environmental pollution statutes. It also discusses natural resource protection, the Gulf oil spill, and climate change. The last two lectures focus on how far regulations can go before they constitute an unconstitutional taking of property. This will help you understand the legal and economic aspects of environmental policies.\n",
      "\n",
      "4. Course PUBPOL 519: Similar to EAS 574, this course provides an assessment of the current energy system and explores responses to current challenges. It examines sustainability by studying global and regional environmental impacts, economics, energy efficiency, consumption patterns, and energy policy. This will help you understand the economic aspects of environmental policies.\n",
      "\n",
      "5. Course ENVIRON 475: Similar to EHS 588, this course introduces students to the field of environmental law and regulation, focusing on the major federal environmental pollution statutes. It also discusses natural resource protection, the Gulf oil spill, and climate change. The last two lectures focus on how far regulations can go before they constitute an unconstitutional taking of property. This will help you understand the legal and economic aspects of environmental policies.\n"
     ]
    }
   ],
   "source": [
    "student = '''Greetings! I'm majoring in Environmental Science and I'm deeply concerned about climate change. \n",
    "I'm looking for courses that focus on sustainable technologies and policies. While I have a strong background in the sciences, \n",
    "I'm less experienced with economics. What courses could help me understand the economic aspects of environmental policies?'''\n",
    "recommendation = rec.recommend(student)"
   ]
  },
  {
   "cell_type": "code",
   "execution_count": null,
   "metadata": {},
   "outputs": [],
   "source": []
  }
 ],
 "metadata": {
  "kernelspec": {
   "display_name": "EECS445",
   "language": "python",
   "name": "python3"
  },
  "language_info": {
   "codemirror_mode": {
    "name": "ipython",
    "version": 3
   },
   "file_extension": ".py",
   "mimetype": "text/x-python",
   "name": "python",
   "nbconvert_exporter": "python",
   "pygments_lexer": "ipython3",
   "version": "3.11.7"
  }
 },
 "nbformat": 4,
 "nbformat_minor": 2
}
