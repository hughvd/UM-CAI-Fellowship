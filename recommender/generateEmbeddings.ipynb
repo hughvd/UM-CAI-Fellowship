{
 "cells": [
  {
   "cell_type": "code",
   "execution_count": 1,
   "metadata": {},
   "outputs": [],
   "source": [
    "import pandas as pd"
   ]
  },
  {
   "cell_type": "code",
   "execution_count": null,
   "metadata": {},
   "outputs": [],
   "source": [
    "df = pd.read_csv(r'course_similarity/data/rawData2024/Atlas_course_bestdescription.csv')"
   ]
  },
  {
   "cell_type": "code",
   "execution_count": 3,
   "metadata": {},
   "outputs": [
    {
     "name": "stdout",
     "output_type": "stream",
     "text": [
      "Sending a test completion job\n",
      "2 + 2 equals 4.\n"
     ]
    }
   ],
   "source": [
    "from openai import AzureOpenAI\n",
    "import os\n",
    "from dotenv import load_dotenv\n",
    "\n",
    "#Sets the current working directory to be the same as the file.\n",
    "os.chdir(os.path.dirname(os.path.abspath('embeddings.ipynb')))\n",
    "\n",
    "#Load environment file for secrets.\n",
    "try:\n",
    "    if load_dotenv('.env') is False:\n",
    "        raise TypeError\n",
    "except TypeError:\n",
    "    print('Unable to load .env file.')\n",
    "    quit()\n",
    "#Create Azure client\n",
    "client = AzureOpenAI(\n",
    "            api_key=os.environ[\"OPENAI_API_KEY\"],\n",
    "            api_version=os.environ['OPENAI_API_VERSION'],\n",
    "            azure_endpoint=os.environ['OPENAI_API_BASE'],\n",
    "            organization=os.environ['OPENAI_ORGANIZATION_ID']\n",
    "        )\n",
    "\n",
    "# Send a completion call to generate an answer\n",
    "print('Sending a test completion job')\n",
    "\n",
    "response = client.chat.completions.create(\n",
    "        model=\"gpt-4\",\n",
    "        messages=[\n",
    "            {\"role\": \"system\", \"content\": \"You are a helpful assistant.\"},\n",
    "            {\"role\": \"user\", \"content\": \"What is 2 + 2?\"}\n",
    "        ],\n",
    "        temperature=0,\n",
    "        stop=None)\n",
    "\n",
    "#Print response.\n",
    "print(response.choices[0].message.content)"
   ]
  },
  {
   "cell_type": "code",
   "execution_count": 4,
   "metadata": {},
   "outputs": [
    {
     "data": {
      "text/html": [
       "<div>\n",
       "<style scoped>\n",
       "    .dataframe tbody tr th:only-of-type {\n",
       "        vertical-align: middle;\n",
       "    }\n",
       "\n",
       "    .dataframe tbody tr th {\n",
       "        vertical-align: top;\n",
       "    }\n",
       "\n",
       "    .dataframe thead th {\n",
       "        text-align: right;\n",
       "    }\n",
       "</style>\n",
       "<table border=\"1\" class=\"dataframe\">\n",
       "  <thead>\n",
       "    <tr style=\"text-align: right;\">\n",
       "      <th></th>\n",
       "      <th>course</th>\n",
       "      <th>description</th>\n",
       "      <th>level</th>\n",
       "    </tr>\n",
       "  </thead>\n",
       "  <tbody>\n",
       "    <tr>\n",
       "      <th>0</th>\n",
       "      <td>AAS 103</td>\n",
       "      <td>In recent years the news coverage of Africa ha...</td>\n",
       "      <td>100</td>\n",
       "    </tr>\n",
       "    <tr>\n",
       "      <th>1</th>\n",
       "      <td>AAS 104</td>\n",
       "      <td>Hum Seminar</td>\n",
       "      <td>100</td>\n",
       "    </tr>\n",
       "    <tr>\n",
       "      <th>2</th>\n",
       "      <td>AAS 111</td>\n",
       "      <td>Africa is the second largest continent on eart...</td>\n",
       "      <td>100</td>\n",
       "    </tr>\n",
       "    <tr>\n",
       "      <th>3</th>\n",
       "      <td>AAS 115</td>\n",
       "      <td>This course is an introduction to spoken and w...</td>\n",
       "      <td>100</td>\n",
       "    </tr>\n",
       "    <tr>\n",
       "      <th>4</th>\n",
       "      <td>AAS 116</td>\n",
       "      <td>This introductory-level course is designed for...</td>\n",
       "      <td>100</td>\n",
       "    </tr>\n",
       "    <tr>\n",
       "      <th>...</th>\n",
       "      <td>...</td>\n",
       "      <td>...</td>\n",
       "      <td>...</td>\n",
       "    </tr>\n",
       "    <tr>\n",
       "      <th>14462</th>\n",
       "      <td>POLSCI 816</td>\n",
       "      <td>This course provides an introduction to estima...</td>\n",
       "      <td>800</td>\n",
       "    </tr>\n",
       "    <tr>\n",
       "      <th>14463</th>\n",
       "      <td>PSYCH 841</td>\n",
       "      <td>Functional MRI has become one of the leading m...</td>\n",
       "      <td>800</td>\n",
       "    </tr>\n",
       "    <tr>\n",
       "      <th>14464</th>\n",
       "      <td>SW 858</td>\n",
       "      <td>This course is concerned with analyzing the di...</td>\n",
       "      <td>800</td>\n",
       "    </tr>\n",
       "    <tr>\n",
       "      <th>14465</th>\n",
       "      <td>SW 874</td>\n",
       "      <td>This seminar provides a foundation and overvie...</td>\n",
       "      <td>800</td>\n",
       "    </tr>\n",
       "    <tr>\n",
       "      <th>14466</th>\n",
       "      <td>THEORY 551</td>\n",
       "      <td>Advanced Aural Skills</td>\n",
       "      <td>500</td>\n",
       "    </tr>\n",
       "  </tbody>\n",
       "</table>\n",
       "<p>14467 rows × 3 columns</p>\n",
       "</div>"
      ],
      "text/plain": [
       "           course                                        description  level\n",
       "0         AAS 103  In recent years the news coverage of Africa ha...    100\n",
       "1         AAS 104                                        Hum Seminar    100\n",
       "2         AAS 111  Africa is the second largest continent on eart...    100\n",
       "3         AAS 115  This course is an introduction to spoken and w...    100\n",
       "4         AAS 116  This introductory-level course is designed for...    100\n",
       "...           ...                                                ...    ...\n",
       "14462  POLSCI 816  This course provides an introduction to estima...    800\n",
       "14463   PSYCH 841  Functional MRI has become one of the leading m...    800\n",
       "14464      SW 858  This course is concerned with analyzing the di...    800\n",
       "14465      SW 874  This seminar provides a foundation and overvie...    800\n",
       "14466  THEORY 551                              Advanced Aural Skills    500\n",
       "\n",
       "[14467 rows x 3 columns]"
      ]
     },
     "execution_count": 4,
     "metadata": {},
     "output_type": "execute_result"
    }
   ],
   "source": [
    "df"
   ]
  },
  {
   "cell_type": "code",
   "execution_count": 10,
   "metadata": {},
   "outputs": [],
   "source": [
    "eecs281text = df[df['course'] == 'EECS 281'].description.values[0]"
   ]
  },
  {
   "cell_type": "code",
   "execution_count": 5,
   "metadata": {},
   "outputs": [],
   "source": [
    "import numpy as np\n",
    "def get_embedding(text, model=os.environ['OPENAI_EMBEDDING_MODEL']):\n",
    "   text = text.replace(\"\\n\", \" \")\n",
    "   return client.embeddings.create(input = [text], model=model).data[0].embedding"
   ]
  },
  {
   "cell_type": "code",
   "execution_count": 11,
   "metadata": {},
   "outputs": [
    {
     "name": "stdout",
     "output_type": "stream",
     "text": [
      "AAS 103 and AAS 111\n",
      "[[0.86411986]]\n",
      "AAS 103 and EECS 281\n",
      "[[0.72905776]]\n",
      "AAS 111 and EECS 281\n",
      "[[0.71395553]]\n"
     ]
    }
   ],
   "source": [
    "\n",
    "\n",
    "emb1 = np.array(get_embedding(df.iloc[0].description)).reshape(1, -1)\n",
    "\n",
    "emb2 = np.array(get_embedding(df.iloc[2].description)).reshape(1, -1)\n",
    "\n",
    "emb281 = np.array(get_embedding(eecs281text)).reshape(1,-1)\n",
    "\n",
    "from sklearn.metrics.pairwise import cosine_similarity\n",
    "print(\"AAS 103 and AAS 111\")\n",
    "print(cosine_similarity(emb1, emb2))\n",
    "print(\"AAS 103 and EECS 281\")\n",
    "print(cosine_similarity(emb1, emb281))\n",
    "print(\"AAS 111 and EECS 281\")\n",
    "print(cosine_similarity(emb2, emb281))"
   ]
  },
  {
   "cell_type": "markdown",
   "metadata": {},
   "source": [
    "## Runtimes\n",
    "50: 1 minute\n",
    "\n",
    "100: 2 minutes\n",
    "\n",
    "500: 14 minutes\n",
    "\n",
    "1000: 30 minutes"
   ]
  },
  {
   "cell_type": "code",
   "execution_count": 12,
   "metadata": {},
   "outputs": [],
   "source": [
    "test_df = df.head(1000)"
   ]
  },
  {
   "cell_type": "code",
   "execution_count": 6,
   "metadata": {},
   "outputs": [],
   "source": [
    "df['ada_embedding'] = df.description.apply(lambda x: get_embedding(x, model='text-embedding-ada-002'))\n",
    "df.to_csv('course_embeddings.csv', index=False)"
   ]
  },
  {
   "cell_type": "code",
   "execution_count": null,
   "metadata": {},
   "outputs": [],
   "source": [
    "def generateEmbeddingsDataframe(df):\n",
    "    df['ada_embedding'] = df.description.apply(lambda x: get_embedding(x, model='text-embedding-ada-002'))\n",
    "    df.to_pkl('embeddings.pkl', index=False)"
   ]
  }
 ],
 "metadata": {
  "kernelspec": {
   "display_name": "eecs445",
   "language": "python",
   "name": "python3"
  },
  "language_info": {
   "codemirror_mode": {
    "name": "ipython",
    "version": 3
   },
   "file_extension": ".py",
   "mimetype": "text/x-python",
   "name": "python",
   "nbconvert_exporter": "python",
   "pygments_lexer": "ipython3",
   "version": "3.11.7"
  }
 },
 "nbformat": 4,
 "nbformat_minor": 2
}
