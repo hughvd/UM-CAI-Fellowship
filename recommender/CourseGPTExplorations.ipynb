{
 "cells": [
  {
   "cell_type": "code",
   "execution_count": 4,
   "metadata": {},
   "outputs": [],
   "source": [
    "from openai import AzureOpenAI\n",
    "import os\n",
    "from dotenv import load_dotenv"
   ]
  },
  {
   "cell_type": "code",
   "execution_count": 5,
   "metadata": {},
   "outputs": [
    {
     "name": "stdout",
     "output_type": "stream",
     "text": [
      "Sending a test completion job\n",
      "2 + 2 equals 4.\n"
     ]
    }
   ],
   "source": [
    "#Sets the current working directory to be the same as the file.\n",
    "os.chdir(os.path.dirname(os.path.abspath('um_courserec.ipynb')))\n",
    "\n",
    "#Load environment file for secrets.\n",
    "try:\n",
    "    if load_dotenv(r'C:\\Users\\hvand\\OneDrive - Umich\\Documents\\atlas\\umgpt_recommender\\.env') is False:\n",
    "        raise TypeError\n",
    "except TypeError:\n",
    "    print('Unable to load .env file.')\n",
    "    quit()\n",
    "#Create Azure client\n",
    "client = AzureOpenAI(\n",
    "    api_key=os.environ[\"OPENAI_API_KEY\"],\n",
    "    api_version=os.environ['OPENAI_API_VERSION'],\n",
    "    azure_endpoint=os.environ['OPENAI_API_BASE'],\n",
    "    organization=os.environ['OPENAI_ORGANIZATION_ID']\n",
    ")\n",
    "\n",
    "# Send a completion call to generate an answer\n",
    "print('Sending a test completion job')\n",
    "\n",
    "response = client.chat.completions.create(\n",
    "        model=os.environ['OPENAI_MODEL'],\n",
    "        messages=[\n",
    "            {\"role\": \"system\", \"content\": \"You are a helpful assistant.\"},\n",
    "            {\"role\": \"user\", \"content\": \"What is 2 + 2?\"}\n",
    "        ],\n",
    "        temperature=0,\n",
    "        stop=None)\n",
    "\n",
    "#Print response.\n",
    "\n",
    "print(response.choices[0].message.content)"
   ]
  },
  {
   "cell_type": "code",
   "execution_count": 7,
   "metadata": {},
   "outputs": [
    {
     "name": "stdout",
     "output_type": "stream",
     "text": [
      "Initial filter\n"
     ]
    }
   ],
   "source": [
    "system_content = '''\n",
    "        You are a keyword extraction tool used by a College Course Recommendation System that searches through course descriptions to recommend classes to a student.\n",
    "        You will output a series of keywords in the specified format based on a students request to help the system filter the dataset to relevant courses. \n",
    "        Example:\n",
    "        Student request: \"I am a mathematics student interested in computer science theory. What are some courses I could take?\"\n",
    "        Your output: \"computer science, algorithms, theory, data structures, discrete mathematics, computation, computational complexity\"\n",
    "        \n",
    "        '''\n",
    "query = 'I am a political science major interested in asian studies and specifically china. I also enjoy asian american studies.'\n",
    "messages = [\n",
    "        {\"role\": \"system\", \"content\": system_content},\n",
    "        {\"role\": \"user\", \"content\": query}\n",
    "    ]\n",
    "print('Initial filter')\n",
    "gpt_response = client.chat.completions.create(\n",
    "    model=os.environ['OPENAI_MODEL'],\n",
    "    messages=messages,\n",
    "    temperature=0,\n",
    "    stop=None)"
   ]
  },
  {
   "cell_type": "code",
   "execution_count": 10,
   "metadata": {},
   "outputs": [
    {
     "data": {
      "text/plain": [
       "'\"political science, asian studies, china, chinese politics, asian american studies, international relations, east asian culture, comparative politics\"'"
      ]
     },
     "execution_count": 10,
     "metadata": {},
     "output_type": "execute_result"
    }
   ],
   "source": [
    "gpt_response.choices[0].message.content"
   ]
  },
  {
   "cell_type": "code",
   "execution_count": 3,
   "metadata": {},
   "outputs": [],
   "source": [
    "import pandas as pd\n",
    "df = pd.read_csv(r'C:\\Users\\hvand\\OneDrive - Umich\\Documents\\atlas\\course_similarity\\hybrid_course_data.csv')"
   ]
  },
  {
   "cell_type": "code",
   "execution_count": 4,
   "metadata": {},
   "outputs": [],
   "source": [
    "def department_2grams(department):\n",
    "    dep = df[df['course'].str.contains(department, case=False, na=False)]\n",
    "    dep_string = ''\n",
    "    for _, row in dep.iterrows():\n",
    "        course_name = row['course']\n",
    "        description = row['description']\n",
    "        dep_string += f\"Course {course_name}: {description}\\n\"\n",
    "    message = '''I have a collection of course descriptions from the ''' + department + '''department at the University of Michigan. \n",
    "I would like to identify key themes and areas of focus within this department based on these descriptions. \n",
    "To achieve this, could you analyze the text and extract the 20 most important and identifying 2-grams? \n",
    "These 2-grams should capture the essence of the subjects taught, methodologies used, or any unique aspects of \n",
    "this department's offerings. Please ensure the 2-grams are relevant to the academic context and avoid common phrases that do not add value \n",
    "in understanding the department's focus. Additionally, if possible, provide a brief explanation for why each 2-gram was selected, based on \n",
    "its relevance or frequency in the course descriptions.'''\n",
    "    response = client.chat.completions.create(\n",
    "        model=os.environ['OPENAI_MODEL'],\n",
    "        messages=[\n",
    "            {\"role\": \"system\", \"content\": message},\n",
    "            {\"role\": \"user\", \"content\": dep_string}\n",
    "        ],\n",
    "        temperature=0,\n",
    "        stop=None)\n",
    "\n",
    "    #Print response.\n",
    "\n",
    "    print(response.choices[0].message.content)\n",
    "    return response.choices[0].message.content"
   ]
  },
  {
   "cell_type": "code",
   "execution_count": 6,
   "metadata": {},
   "outputs": [
    {
     "name": "stdout",
     "output_type": "stream",
     "text": [
      "1. \"Mathematical reasoning\" - This 2-gram indicates the department's emphasis on developing students' ability to reason mathematically, which is a critical skill in the field of mathematics.\n",
      "\n",
      "2. \"Conceptual understanding\" - This suggests the department's focus on ensuring students understand the underlying concepts in mathematics, not just the ability to perform calculations.\n",
      "\n",
      "3. \"Mathematical modeling\" - This indicates the department's focus on applying mathematical concepts to real-world problems, a key aspect of applied mathematics.\n",
      "\n",
      "4. \"Problem-solving capabilities\" - This suggests the department's emphasis on developing students' problem-solving skills, a critical skill in mathematics and many other fields.\n",
      "\n",
      "5. \"Rigorous mathematical\" - This indicates the department's commitment to rigorous mathematical study, suggesting a high academic standard in their courses.\n",
      "\n",
      "6. \"Theoretical approach\" - This suggests that the department values theoretical understanding of mathematics, not just practical application.\n",
      "\n",
      "7. \"Mathematical methods\" - This indicates the department's focus on teaching various mathematical methods, which are tools or techniques used to solve mathematical problems.\n",
      "\n",
      "8. \"Mathematical analysis\" - This suggests that the department offers courses in mathematical analysis, a specific branch of mathematics that deals with limits, continuity, and infinite series.\n",
      "\n",
      "9. \"Linear algebra\" - This indicates that the department offers courses in linear algebra, a branch of mathematics that studies vectors, vector spaces, and linear transformations.\n",
      "\n",
      "10. \"Calculus sequence\" - This suggests that the department offers a sequence of courses in calculus, a branch of mathematics that studies change and motion.\n",
      "\n",
      "11. \"Differential equations\" - This indicates that the department offers courses in differential equations, a branch of mathematics that studies equations involving derivatives.\n",
      "\n",
      "12. \"Mathematical proofs\" - This suggests that the department emphasizes the importance of understanding and constructing mathematical proofs, a key aspect of mathematical reasoning.\n",
      "\n",
      "13. \"Mathematical concepts\" - This indicates the department's focus on teaching a wide range of mathematical concepts, which are the fundamental ideas in mathematics.\n",
      "\n",
      "14. \"Mathematical structures\" - This suggests that the department offers courses that explore the structure of mathematical systems, a key aspect of abstract mathematics.\n",
      "\n",
      "15. \"Mathematical models\" - This indicates the department's focus on using mathematical models to understand and solve real-world problems.\n",
      "\n",
      "16. \"Mathematical techniques\" - This suggests that the department emphasizes the importance of mastering various mathematical techniques, which are specific methods or procedures used in mathematics.\n",
      "\n",
      "17. \"Mathematical methods\" - This indicates the department's focus on teaching various mathematical methods, which are tools or techniques used to solve mathematical problems.\n",
      "\n",
      "18. \"Mathematical foundations\" - This suggests that the department emphasizes the importance of understanding the foundational concepts and principles of mathematics.\n",
      "\n",
      "19. \"Mathematical thinking\" - This indicates the department's focus on developing students' ability to think mathematically, a critical skill in the field of mathematics.\n",
      "\n",
      "20. \"Mathematical tools\" - This suggests that the department emphasizes the importance of mastering various mathematical tools, which are specific methods or procedures used in mathematics.\n"
     ]
    }
   ],
   "source": [
    "math2g = department_2grams('MATH')"
   ]
  },
  {
   "cell_type": "code",
   "execution_count": 5,
   "metadata": {},
   "outputs": [
    {
     "name": "stdout",
     "output_type": "stream",
     "text": [
      "1. \"Physical Concepts\": This 2-gram is important as it indicates the foundational knowledge that the department aims to impart to students. It is a recurring theme in many course descriptions, suggesting a strong emphasis on understanding fundamental principles.\n",
      "\n",
      "2. \"Experimental Methods\": This 2-gram suggests a strong emphasis on practical, hands-on learning and the application of theoretical knowledge. It is a key aspect of the department's teaching methodology.\n",
      "\n",
      "3. \"Classical Mechanics\": This is a key area of focus within the department, with several courses dedicated to exploring the principles of classical mechanics.\n",
      "\n",
      "4. \"Electromagnetic Waves\": This 2-gram indicates a significant focus on the study of electromagnetic waves, a fundamental aspect of physics.\n",
      "\n",
      "5. \"Quantum Mechanics\": This is a key area of study within the department, indicating a focus on advanced, theoretical physics.\n",
      "\n",
      "6. \"Statistical Foundations\": This 2-gram suggests that the department places importance on understanding the statistical aspects of physics, which is crucial for data analysis and interpretation in research.\n",
      "\n",
      "7. \"Scientific Thought\": This 2-gram indicates the department's emphasis on developing critical thinking and analytical skills, which are essential for scientific inquiry.\n",
      "\n",
      "8. \"Modern Physics\": This 2-gram suggests that the department keeps up with current developments in the field and incorporates them into their curriculum.\n",
      "\n",
      "9. \"Physical Universe\": This 2-gram indicates a focus on cosmology and the study of the universe, a key area of research in physics.\n",
      "\n",
      "10. \"Energy Policy\": This 2-gram suggests an interdisciplinary approach, combining physics with policy studies, reflecting the department's engagement with real-world issues.\n",
      "\n",
      "11. \"Biophysics Concentrators\": This 2-gram indicates a focus on biophysics, suggesting an interdisciplinary approach that combines physics with biological sciences.\n",
      "\n",
      "12. \"Relativistic Quantum\": This 2-gram indicates a focus on advanced theoretical physics, specifically the intersection of quantum mechanics and relativity.\n",
      "\n",
      "13. \"Particle Physics\": This 2-gram suggests a focus on the study of fundamental particles, a key area of research in physics.\n",
      "\n",
      "14. \"Astrophysical Observations\": This 2-gram indicates a focus on observational astrophysics, suggesting a strong emphasis on research and data analysis.\n",
      "\n",
      "15. \"Computational Physics\": This 2-gram suggests a focus on the use of computational methods in physics, reflecting the department's engagement with modern research techniques.\n",
      "\n",
      "16. \"Nonlinear Dynamics\": This 2-gram indicates a focus on complex systems and phenomena, a key area of research in physics.\n",
      "\n",
      "17. \"Optical Radiation\": This 2-gram suggests a focus on the study of light and its interactions, a fundamental aspect of physics.\n",
      "\n",
      "18. \"Condensed Matter\": This 2-gram indicates a focus on the study of condensed matter, a key area of research in physics.\n",
      "\n",
      "19. \"Research Opportunities\": This 2-gram suggests that the department places a strong emphasis on research, providing students with opportunities to engage in independent study.\n",
      "\n",
      "20. \"Graduate School\": This 2-gram indicates the department's commitment to advanced study and research, offering a range of graduate-level courses and research opportunities.\n"
     ]
    }
   ],
   "source": [
    "physics2g = department_2grams('PHYSICS')"
   ]
  },
  {
   "cell_type": "code",
   "execution_count": 7,
   "metadata": {},
   "outputs": [
    {
     "name": "stdout",
     "output_type": "stream",
     "text": [
      "1. \"Academic writing skills\" - This 2-gram indicates a key focus of the English department, which is to develop students' abilities to write effectively in an academic context. \n",
      "\n",
      "2. \"Critical thinking\" - This phrase suggests that the department emphasizes the development of critical thinking skills, which are essential for analyzing and interpreting literary texts.\n",
      "\n",
      "3. \"Literary texts\" - This 2-gram suggests that the study of literature, including various genres and disciplines, is a central part of the department's curriculum.\n",
      "\n",
      "4. \"Social movements\" - This phrase indicates that the department incorporates the study of social movements, suggesting a focus on the intersection of literature and society.\n",
      "\n",
      "5. \"Creative writing\" - This 2-gram suggests that the department offers courses in creative writing, allowing students to develop their own writing skills in addition to studying existing works.\n",
      "\n",
      "6. \"Community engagement\" - This phrase suggests that the department values real-world application of skills and community involvement, possibly through service-learning courses or community-based projects.\n",
      "\n",
      "7. \"Cultural foundations\" - This 2-gram indicates a focus on understanding the cultural contexts and influences of literature, which is crucial for comprehensive literary analysis.\n",
      "\n",
      "8. \"Multicultural Am Lit\" - This phrase suggests a focus on diverse perspectives within American literature, indicating an emphasis on inclusivity and representation in the department's curriculum.\n",
      "\n",
      "9. \"Language and politics\" - This 2-gram suggests that the department explores the intersection of language and politics, indicating a focus on the societal implications and power dynamics inherent in language use.\n",
      "\n",
      "10. \"Literary writing\" - This phrase indicates a focus on the craft of writing, suggesting that the department values both the study and practice of writing.\n",
      "\n",
      "11. \"Disability rights\" - This 2-gram suggests that the department incorporates the study of disability rights, indicating a focus on social justice and inclusivity.\n",
      "\n",
      "12. \"Creative processes\" - This phrase suggests a focus on the creative process, indicating that the department values not just the final product of writing, but also the process of creating it.\n",
      "\n",
      "13. \"Academic argumentation\" - This 2-gram indicates a focus on developing students' abilities to construct and present effective academic arguments.\n",
      "\n",
      "14. \"Visual literacy\" - This phrase suggests that the department incorporates the study of visual media, indicating a multidisciplinary approach to English studies.\n",
      "\n",
      "15. \"Literary genres\" - This 2-gram suggests a broad study of various literary genres, indicating a comprehensive approach to literature study.\n",
      "\n",
      "16. \"Literary studies\" - This phrase indicates a focus on the academic study of literature, suggesting a rigorous and scholarly approach to the subject.\n",
      "\n",
      "17. \"Literary tradition\" - This 2-gram suggests a focus on understanding and engaging with established literary traditions, indicating a respect for the historical context of literature.\n",
      "\n",
      "18. \"Literary interpretation\" - This phrase indicates a focus on the interpretation of literature, suggesting that the department values critical analysis and interpretation skills.\n",
      "\n",
      "19. \"Literary criticism\" - This 2-gram suggests a focus on the study and practice of literary criticism, indicating a comprehensive approach to literature study.\n",
      "\n",
      "20. \"Literary theory\" - This phrase indicates a focus on the study of literary theory, suggesting a rigorous and scholarly approach to the subject.\n"
     ]
    }
   ],
   "source": [
    "english2g = department_2grams('ENGLISH')"
   ]
  },
  {
   "cell_type": "code",
   "execution_count": 10,
   "metadata": {},
   "outputs": [
    {
     "name": "stdout",
     "output_type": "stream",
     "text": [
      "1. \"Experimental methods\": This 2-gram is frequently mentioned, indicating a strong emphasis on hands-on learning and practical application of theories in the department's courses.\n",
      "2. \"Physical principles\": This phrase suggests a focus on understanding the fundamental laws and concepts that govern the physical world.\n",
      "3. \"Classical mechanics\": This is a key area of study in physics, dealing with the motion of macroscopic objects.\n",
      "4. \"Electromagnetic waves\": This topic is a fundamental part of physics, dealing with light and other forms of electromagnetic radiation.\n",
      "5. \"Quantum mechanics\": This is a key area of modern physics that deals with phenomena on a very small scale, such as atoms and subatomic particles.\n",
      "6. \"Statistical physics\": This suggests a focus on the statistical nature of particles in a system, a key concept in thermodynamics and quantum mechanics.\n",
      "7. \"Modern physics\": This phrase indicates a focus on 20th-century developments in physics, including quantum mechanics and relativity.\n",
      "8. \"Relativistic quantum\": This suggests a focus on the intersection of quantum mechanics and relativity, a key area in modern physics.\n",
      "9. \"Physics of life\": This phrase suggests a focus on biophysics, or the application of physics to biological systems.\n",
      "10. \"Energy and energy\": This repeated phrase suggests a focus on energy studies, including its production, distribution, and environmental impact.\n",
      "11. \"Physical universe\": This phrase suggests a focus on cosmology, or the study of the universe as a whole.\n",
      "12. \"Scientific method\": This phrase suggests a focus on the process of scientific inquiry and experimentation.\n",
      "13. \"Particle physics\": This is a key area of modern physics that deals with the fundamental particles of the universe.\n",
      "14. \"Wave phenomena\": This suggests a focus on the behavior of waves, a key concept in both classical and quantum physics.\n",
      "15. \"Quantum field\": This suggests a focus on quantum field theory, a key area of modern physics that combines quantum mechanics and special relativity.\n",
      "16. \"Solid state\": This phrase suggests a focus on solid-state physics, or the study of rigid matter.\n",
      "17. \"Optical radiation\": This suggests a focus on the interaction of light with matter, a key area in optics.\n",
      "18. \"Nonlinear dynamics\": This suggests a focus on systems that do not follow linear behavior, a key area in chaos theory and complex systems.\n",
      "19. \"Computational physics\": This suggests a focus on the use of computers to solve physical problems.\n",
      "20. \"Research opportunities\": This phrase suggests a focus on providing students with opportunities to engage in research.\n"
     ]
    }
   ],
   "source": [
    "#df = df[df['course'].str.contains('PHYSICS', case=False, na=False)]\n",
    "physics = df[df['course'].str.contains('PHYSICS', case=False, na=False)]\n",
    "physics_string = ''\n",
    "for _, row in physics.iterrows():\n",
    "    course_name = row['course']\n",
    "    description = row['description']\n",
    "    physics_string += f\"Course {course_name}: {description}\\n\"\n",
    "\n",
    "message = '''I have a collection of course descriptions from the Physics Department at the University of Michigan. \n",
    "I would like to identify key themes and areas of focus within this department based on these descriptions. \n",
    "To achieve this, could you analyze the text and extract the 20 most important and identifying 2-grams? \n",
    "These 2-grams should capture the essence of the subjects taught, methodologies used, or any unique aspects of \n",
    "this department's offerings. Please ensure the 2-grams are relevant to the academic context and avoid common phrases that do not add value \n",
    "in understanding the department's focus. Additionally, if possible, provide a brief explanation for why each 2-gram was selected, based on \n",
    "its relevance or frequency in the course descriptions.'''\n",
    "response = client.chat.completions.create(\n",
    "        model=os.environ['OPENAI_MODEL'],\n",
    "        messages=[\n",
    "            {\"role\": \"system\", \"content\": message},\n",
    "            {\"role\": \"user\", \"content\": physics_string}\n",
    "        ],\n",
    "        temperature=0,\n",
    "        stop=None)\n",
    "\n",
    "#Print response.\n",
    "\n",
    "print(response.choices[0].message.content)"
   ]
  },
  {
   "cell_type": "markdown",
   "metadata": {},
   "source": [
    "# Trigrams"
   ]
  },
  {
   "cell_type": "code",
   "execution_count": 9,
   "metadata": {},
   "outputs": [
    {
     "name": "stdout",
     "output_type": "stream",
     "text": [
      "1. 'experimental methods in science': This 3-gram is repeated in multiple course descriptions, indicating a strong emphasis on hands-on learning and practical application of theories.\n",
      "2. 'principles of classical mechanics': This phrase is used in several courses, suggesting a foundational focus on classical mechanics in the department's curriculum.\n",
      "3. 'physics of life': This phrase appears in multiple courses, indicating a unique interdisciplinary approach combining physics and life sciences.\n",
      "4. 'understanding the principles of': This phrase is frequently used, indicating a focus on fundamental principles in various areas of physics.\n",
      "5. 'physics of the universe': This phrase suggests a focus on astrophysics and cosmology in the department's offerings.\n",
      "6. 'introduction to quantum mechanics': This phrase is used in several courses, indicating a strong focus on quantum mechanics in the curriculum.\n",
      "7. 'based on theory': This phrase is used in multiple courses, indicating a strong emphasis on theoretical understanding.\n",
      "8. 'compare their results': This phrase suggests a focus on data analysis and comparison with theoretical predictions.\n",
      "9. 'standard laws of physics': This phrase indicates a focus on understanding and applying the standard laws of physics.\n",
      "10. 'physics of motion': This phrase suggests a focus on kinematics and dynamics in the curriculum.\n",
      "11. 'interaction of photons': This phrase suggests a focus on photon interactions, which is a key aspect of quantum mechanics and optics.\n",
      "12. 'principles of electricity and magnetism': This phrase indicates a focus on electromagnetism in the curriculum.\n",
      "13. 'atomic physics, astrophysics, condensed matter': This phrase suggests a broad range of physics sub-disciplines covered in the curriculum.\n",
      "14. 'experimental or theoretical research': This phrase indicates a focus on both experimental and theoretical research in the department.\n",
      "15. 'quantum field theory': This phrase suggests a focus on advanced topics in quantum mechanics.\n",
      "16. 'relativistic quantum field': This phrase indicates a focus on the intersection of quantum mechanics and relativity.\n",
      "17. 'nonlinear dynamics in biological': This phrase suggests a focus on the application of physics in understanding biological systems.\n",
      "18. 'theory of general relativity': This phrase indicates a focus on Einstein's theory of general relativity in the curriculum.\n",
      "19. 'interaction of optical radiation': This phrase suggests a focus on optics and the interaction of light with matter.\n",
      "20. 'quantum theory of relativistic': This phrase indicates a focus on the quantum theory of relativistic systems, which is a key aspect of modern physics.\n"
     ]
    }
   ],
   "source": [
    "#df = df[df['course'].str.contains('PHYSICS', case=False, na=False)]\n",
    "physics = df[df['course'].str.contains('PHYSICS', case=False, na=False)]\n",
    "physics_string = ''\n",
    "for _, row in physics.iterrows():\n",
    "    course_name = row['course']\n",
    "    description = row['description']\n",
    "    physics_string += f\"Course {course_name}: {description}\\n\"\n",
    "\n",
    "message = '''I have a collection of course descriptions from the Physics Department at the University of Michigan. \n",
    "I would like to identify key themes and areas of focus within this department based on these descriptions. \n",
    "To achieve this, could you analyze the text and extract the 20 most important and identifying 3-grams? A 3-gram is a sequence of three words. \n",
    "Examples: 'quantum field theory', 'rigid body dynamics','solid state physics'.\n",
    "These 3-grams should capture the essence of the subjects taught, methodologies used, or any unique aspects of \n",
    "this department's offerings. Please ensure the 3-grams are relevant to the academic context and avoid common phrases that do not add value \n",
    "in understanding the department's focus. Additionally, if possible, provide a brief explanation for why each 3-gram was selected, based on \n",
    "its relevance or frequency in the course descriptions.'''\n",
    "response = client.chat.completions.create(\n",
    "        model=os.environ['OPENAI_MODEL'],\n",
    "        messages=[\n",
    "            {\"role\": \"system\", \"content\": message},\n",
    "            {\"role\": \"user\", \"content\": physics_string}\n",
    "        ],\n",
    "        temperature=0,\n",
    "        stop=None)\n",
    "\n",
    "#Print response.\n",
    "\n",
    "print(response.choices[0].message.content)"
   ]
  },
  {
   "cell_type": "code",
   "execution_count": 4,
   "metadata": {},
   "outputs": [
    {
     "ename": "NotFoundError",
     "evalue": "Error code: 404 - {'error': {'code': 'DeploymentNotFound', 'message': 'The API deployment for this resource does not exist. If you created the deployment within the last 5 minutes, please wait a moment and try again.'}, 'backend-counter': '5'}",
     "output_type": "error",
     "traceback": [
      "\u001b[1;31m---------------------------------------------------------------------------\u001b[0m",
      "\u001b[1;31mNotFoundError\u001b[0m                             Traceback (most recent call last)",
      "Cell \u001b[1;32mIn[4], line 5\u001b[0m\n\u001b[0;32m      2\u001b[0m    text \u001b[38;5;241m=\u001b[39m text\u001b[38;5;241m.\u001b[39mreplace(\u001b[38;5;124m\"\u001b[39m\u001b[38;5;130;01m\\n\u001b[39;00m\u001b[38;5;124m\"\u001b[39m, \u001b[38;5;124m\"\u001b[39m\u001b[38;5;124m \u001b[39m\u001b[38;5;124m\"\u001b[39m)\n\u001b[0;32m      3\u001b[0m    \u001b[38;5;28;01mreturn\u001b[39;00m client\u001b[38;5;241m.\u001b[39membeddings\u001b[38;5;241m.\u001b[39mcreate(\u001b[38;5;28minput\u001b[39m \u001b[38;5;241m=\u001b[39m [text], model\u001b[38;5;241m=\u001b[39mmodel)\u001b[38;5;241m.\u001b[39mdata[\u001b[38;5;241m0\u001b[39m]\u001b[38;5;241m.\u001b[39membedding\n\u001b[1;32m----> 5\u001b[0m df[\u001b[38;5;124m'\u001b[39m\u001b[38;5;124mada_embedding\u001b[39m\u001b[38;5;124m'\u001b[39m] \u001b[38;5;241m=\u001b[39m df\u001b[38;5;241m.\u001b[39mdescription\u001b[38;5;241m.\u001b[39mapply(\u001b[38;5;28;01mlambda\u001b[39;00m x: get_embedding(x, model\u001b[38;5;241m=\u001b[39m\u001b[38;5;124m'\u001b[39m\u001b[38;5;124mtext-embedding-3-small\u001b[39m\u001b[38;5;124m'\u001b[39m))\n\u001b[0;32m      6\u001b[0m df\u001b[38;5;241m.\u001b[39mto_csv(\u001b[38;5;124m'\u001b[39m\u001b[38;5;124moutput/embedded_df\u001b[39m\u001b[38;5;124m'\u001b[39m, index\u001b[38;5;241m=\u001b[39m\u001b[38;5;28;01mFalse\u001b[39;00m)\n",
      "File \u001b[1;32mc:\\Users\\hvand\\anaconda3\\envs\\EECS445\\Lib\\site-packages\\pandas\\core\\series.py:4904\u001b[0m, in \u001b[0;36mSeries.apply\u001b[1;34m(self, func, convert_dtype, args, by_row, **kwargs)\u001b[0m\n\u001b[0;32m   4769\u001b[0m \u001b[38;5;28;01mdef\u001b[39;00m \u001b[38;5;21mapply\u001b[39m(\n\u001b[0;32m   4770\u001b[0m     \u001b[38;5;28mself\u001b[39m,\n\u001b[0;32m   4771\u001b[0m     func: AggFuncType,\n\u001b[1;32m   (...)\u001b[0m\n\u001b[0;32m   4776\u001b[0m     \u001b[38;5;241m*\u001b[39m\u001b[38;5;241m*\u001b[39mkwargs,\n\u001b[0;32m   4777\u001b[0m ) \u001b[38;5;241m-\u001b[39m\u001b[38;5;241m>\u001b[39m DataFrame \u001b[38;5;241m|\u001b[39m Series:\n\u001b[0;32m   4778\u001b[0m \u001b[38;5;250m    \u001b[39m\u001b[38;5;124;03m\"\"\"\u001b[39;00m\n\u001b[0;32m   4779\u001b[0m \u001b[38;5;124;03m    Invoke function on values of Series.\u001b[39;00m\n\u001b[0;32m   4780\u001b[0m \n\u001b[1;32m   (...)\u001b[0m\n\u001b[0;32m   4895\u001b[0m \u001b[38;5;124;03m    dtype: float64\u001b[39;00m\n\u001b[0;32m   4896\u001b[0m \u001b[38;5;124;03m    \"\"\"\u001b[39;00m\n\u001b[0;32m   4897\u001b[0m     \u001b[38;5;28;01mreturn\u001b[39;00m SeriesApply(\n\u001b[0;32m   4898\u001b[0m         \u001b[38;5;28mself\u001b[39m,\n\u001b[0;32m   4899\u001b[0m         func,\n\u001b[0;32m   4900\u001b[0m         convert_dtype\u001b[38;5;241m=\u001b[39mconvert_dtype,\n\u001b[0;32m   4901\u001b[0m         by_row\u001b[38;5;241m=\u001b[39mby_row,\n\u001b[0;32m   4902\u001b[0m         args\u001b[38;5;241m=\u001b[39margs,\n\u001b[0;32m   4903\u001b[0m         kwargs\u001b[38;5;241m=\u001b[39mkwargs,\n\u001b[1;32m-> 4904\u001b[0m     )\u001b[38;5;241m.\u001b[39mapply()\n",
      "File \u001b[1;32mc:\\Users\\hvand\\anaconda3\\envs\\EECS445\\Lib\\site-packages\\pandas\\core\\apply.py:1427\u001b[0m, in \u001b[0;36mSeriesApply.apply\u001b[1;34m(self)\u001b[0m\n\u001b[0;32m   1424\u001b[0m     \u001b[38;5;28;01mreturn\u001b[39;00m \u001b[38;5;28mself\u001b[39m\u001b[38;5;241m.\u001b[39mapply_compat()\n\u001b[0;32m   1426\u001b[0m \u001b[38;5;66;03m# self.func is Callable\u001b[39;00m\n\u001b[1;32m-> 1427\u001b[0m \u001b[38;5;28;01mreturn\u001b[39;00m \u001b[38;5;28mself\u001b[39m\u001b[38;5;241m.\u001b[39mapply_standard()\n",
      "File \u001b[1;32mc:\\Users\\hvand\\anaconda3\\envs\\EECS445\\Lib\\site-packages\\pandas\\core\\apply.py:1507\u001b[0m, in \u001b[0;36mSeriesApply.apply_standard\u001b[1;34m(self)\u001b[0m\n\u001b[0;32m   1501\u001b[0m \u001b[38;5;66;03m# row-wise access\u001b[39;00m\n\u001b[0;32m   1502\u001b[0m \u001b[38;5;66;03m# apply doesn't have a `na_action` keyword and for backward compat reasons\u001b[39;00m\n\u001b[0;32m   1503\u001b[0m \u001b[38;5;66;03m# we need to give `na_action=\"ignore\"` for categorical data.\u001b[39;00m\n\u001b[0;32m   1504\u001b[0m \u001b[38;5;66;03m# TODO: remove the `na_action=\"ignore\"` when that default has been changed in\u001b[39;00m\n\u001b[0;32m   1505\u001b[0m \u001b[38;5;66;03m#  Categorical (GH51645).\u001b[39;00m\n\u001b[0;32m   1506\u001b[0m action \u001b[38;5;241m=\u001b[39m \u001b[38;5;124m\"\u001b[39m\u001b[38;5;124mignore\u001b[39m\u001b[38;5;124m\"\u001b[39m \u001b[38;5;28;01mif\u001b[39;00m \u001b[38;5;28misinstance\u001b[39m(obj\u001b[38;5;241m.\u001b[39mdtype, CategoricalDtype) \u001b[38;5;28;01melse\u001b[39;00m \u001b[38;5;28;01mNone\u001b[39;00m\n\u001b[1;32m-> 1507\u001b[0m mapped \u001b[38;5;241m=\u001b[39m obj\u001b[38;5;241m.\u001b[39m_map_values(\n\u001b[0;32m   1508\u001b[0m     mapper\u001b[38;5;241m=\u001b[39mcurried, na_action\u001b[38;5;241m=\u001b[39maction, convert\u001b[38;5;241m=\u001b[39m\u001b[38;5;28mself\u001b[39m\u001b[38;5;241m.\u001b[39mconvert_dtype\n\u001b[0;32m   1509\u001b[0m )\n\u001b[0;32m   1511\u001b[0m \u001b[38;5;28;01mif\u001b[39;00m \u001b[38;5;28mlen\u001b[39m(mapped) \u001b[38;5;129;01mand\u001b[39;00m \u001b[38;5;28misinstance\u001b[39m(mapped[\u001b[38;5;241m0\u001b[39m], ABCSeries):\n\u001b[0;32m   1512\u001b[0m     \u001b[38;5;66;03m# GH#43986 Need to do list(mapped) in order to get treated as nested\u001b[39;00m\n\u001b[0;32m   1513\u001b[0m     \u001b[38;5;66;03m#  See also GH#25959 regarding EA support\u001b[39;00m\n\u001b[0;32m   1514\u001b[0m     \u001b[38;5;28;01mreturn\u001b[39;00m obj\u001b[38;5;241m.\u001b[39m_constructor_expanddim(\u001b[38;5;28mlist\u001b[39m(mapped), index\u001b[38;5;241m=\u001b[39mobj\u001b[38;5;241m.\u001b[39mindex)\n",
      "File \u001b[1;32mc:\\Users\\hvand\\anaconda3\\envs\\EECS445\\Lib\\site-packages\\pandas\\core\\base.py:921\u001b[0m, in \u001b[0;36mIndexOpsMixin._map_values\u001b[1;34m(self, mapper, na_action, convert)\u001b[0m\n\u001b[0;32m    918\u001b[0m \u001b[38;5;28;01mif\u001b[39;00m \u001b[38;5;28misinstance\u001b[39m(arr, ExtensionArray):\n\u001b[0;32m    919\u001b[0m     \u001b[38;5;28;01mreturn\u001b[39;00m arr\u001b[38;5;241m.\u001b[39mmap(mapper, na_action\u001b[38;5;241m=\u001b[39mna_action)\n\u001b[1;32m--> 921\u001b[0m \u001b[38;5;28;01mreturn\u001b[39;00m algorithms\u001b[38;5;241m.\u001b[39mmap_array(arr, mapper, na_action\u001b[38;5;241m=\u001b[39mna_action, convert\u001b[38;5;241m=\u001b[39mconvert)\n",
      "File \u001b[1;32mc:\\Users\\hvand\\anaconda3\\envs\\EECS445\\Lib\\site-packages\\pandas\\core\\algorithms.py:1743\u001b[0m, in \u001b[0;36mmap_array\u001b[1;34m(arr, mapper, na_action, convert)\u001b[0m\n\u001b[0;32m   1741\u001b[0m values \u001b[38;5;241m=\u001b[39m arr\u001b[38;5;241m.\u001b[39mastype(\u001b[38;5;28mobject\u001b[39m, copy\u001b[38;5;241m=\u001b[39m\u001b[38;5;28;01mFalse\u001b[39;00m)\n\u001b[0;32m   1742\u001b[0m \u001b[38;5;28;01mif\u001b[39;00m na_action \u001b[38;5;129;01mis\u001b[39;00m \u001b[38;5;28;01mNone\u001b[39;00m:\n\u001b[1;32m-> 1743\u001b[0m     \u001b[38;5;28;01mreturn\u001b[39;00m lib\u001b[38;5;241m.\u001b[39mmap_infer(values, mapper, convert\u001b[38;5;241m=\u001b[39mconvert)\n\u001b[0;32m   1744\u001b[0m \u001b[38;5;28;01melse\u001b[39;00m:\n\u001b[0;32m   1745\u001b[0m     \u001b[38;5;28;01mreturn\u001b[39;00m lib\u001b[38;5;241m.\u001b[39mmap_infer_mask(\n\u001b[0;32m   1746\u001b[0m         values, mapper, mask\u001b[38;5;241m=\u001b[39misna(values)\u001b[38;5;241m.\u001b[39mview(np\u001b[38;5;241m.\u001b[39muint8), convert\u001b[38;5;241m=\u001b[39mconvert\n\u001b[0;32m   1747\u001b[0m     )\n",
      "File \u001b[1;32mlib.pyx:2972\u001b[0m, in \u001b[0;36mpandas._libs.lib.map_infer\u001b[1;34m()\u001b[0m\n",
      "Cell \u001b[1;32mIn[4], line 5\u001b[0m, in \u001b[0;36m<lambda>\u001b[1;34m(x)\u001b[0m\n\u001b[0;32m      2\u001b[0m    text \u001b[38;5;241m=\u001b[39m text\u001b[38;5;241m.\u001b[39mreplace(\u001b[38;5;124m\"\u001b[39m\u001b[38;5;130;01m\\n\u001b[39;00m\u001b[38;5;124m\"\u001b[39m, \u001b[38;5;124m\"\u001b[39m\u001b[38;5;124m \u001b[39m\u001b[38;5;124m\"\u001b[39m)\n\u001b[0;32m      3\u001b[0m    \u001b[38;5;28;01mreturn\u001b[39;00m client\u001b[38;5;241m.\u001b[39membeddings\u001b[38;5;241m.\u001b[39mcreate(\u001b[38;5;28minput\u001b[39m \u001b[38;5;241m=\u001b[39m [text], model\u001b[38;5;241m=\u001b[39mmodel)\u001b[38;5;241m.\u001b[39mdata[\u001b[38;5;241m0\u001b[39m]\u001b[38;5;241m.\u001b[39membedding\n\u001b[1;32m----> 5\u001b[0m df[\u001b[38;5;124m'\u001b[39m\u001b[38;5;124mada_embedding\u001b[39m\u001b[38;5;124m'\u001b[39m] \u001b[38;5;241m=\u001b[39m df\u001b[38;5;241m.\u001b[39mdescription\u001b[38;5;241m.\u001b[39mapply(\u001b[38;5;28;01mlambda\u001b[39;00m x: get_embedding(x, model\u001b[38;5;241m=\u001b[39m\u001b[38;5;124m'\u001b[39m\u001b[38;5;124mtext-embedding-3-small\u001b[39m\u001b[38;5;124m'\u001b[39m))\n\u001b[0;32m      6\u001b[0m df\u001b[38;5;241m.\u001b[39mto_csv(\u001b[38;5;124m'\u001b[39m\u001b[38;5;124moutput/embedded_df\u001b[39m\u001b[38;5;124m'\u001b[39m, index\u001b[38;5;241m=\u001b[39m\u001b[38;5;28;01mFalse\u001b[39;00m)\n",
      "Cell \u001b[1;32mIn[4], line 3\u001b[0m, in \u001b[0;36mget_embedding\u001b[1;34m(text, model)\u001b[0m\n\u001b[0;32m      1\u001b[0m \u001b[38;5;28;01mdef\u001b[39;00m \u001b[38;5;21mget_embedding\u001b[39m(text, model\u001b[38;5;241m=\u001b[39m\u001b[38;5;124m\"\u001b[39m\u001b[38;5;124mtext-embedding-3-small\u001b[39m\u001b[38;5;124m\"\u001b[39m):\n\u001b[0;32m      2\u001b[0m    text \u001b[38;5;241m=\u001b[39m text\u001b[38;5;241m.\u001b[39mreplace(\u001b[38;5;124m\"\u001b[39m\u001b[38;5;130;01m\\n\u001b[39;00m\u001b[38;5;124m\"\u001b[39m, \u001b[38;5;124m\"\u001b[39m\u001b[38;5;124m \u001b[39m\u001b[38;5;124m\"\u001b[39m)\n\u001b[1;32m----> 3\u001b[0m    \u001b[38;5;28;01mreturn\u001b[39;00m client\u001b[38;5;241m.\u001b[39membeddings\u001b[38;5;241m.\u001b[39mcreate(\u001b[38;5;28minput\u001b[39m \u001b[38;5;241m=\u001b[39m [text], model\u001b[38;5;241m=\u001b[39mmodel)\u001b[38;5;241m.\u001b[39mdata[\u001b[38;5;241m0\u001b[39m]\u001b[38;5;241m.\u001b[39membedding\n",
      "File \u001b[1;32mc:\\Users\\hvand\\anaconda3\\envs\\EECS445\\Lib\\site-packages\\openai\\resources\\embeddings.py:113\u001b[0m, in \u001b[0;36mEmbeddings.create\u001b[1;34m(self, input, model, dimensions, encoding_format, user, extra_headers, extra_query, extra_body, timeout)\u001b[0m\n\u001b[0;32m    107\u001b[0m         embedding\u001b[38;5;241m.\u001b[39membedding \u001b[38;5;241m=\u001b[39m np\u001b[38;5;241m.\u001b[39mfrombuffer(  \u001b[38;5;66;03m# type: ignore[no-untyped-call]\u001b[39;00m\n\u001b[0;32m    108\u001b[0m             base64\u001b[38;5;241m.\u001b[39mb64decode(data), dtype\u001b[38;5;241m=\u001b[39m\u001b[38;5;124m\"\u001b[39m\u001b[38;5;124mfloat32\u001b[39m\u001b[38;5;124m\"\u001b[39m\n\u001b[0;32m    109\u001b[0m         )\u001b[38;5;241m.\u001b[39mtolist()\n\u001b[0;32m    111\u001b[0m     \u001b[38;5;28;01mreturn\u001b[39;00m obj\n\u001b[1;32m--> 113\u001b[0m \u001b[38;5;28;01mreturn\u001b[39;00m \u001b[38;5;28mself\u001b[39m\u001b[38;5;241m.\u001b[39m_post(\n\u001b[0;32m    114\u001b[0m     \u001b[38;5;124m\"\u001b[39m\u001b[38;5;124m/embeddings\u001b[39m\u001b[38;5;124m\"\u001b[39m,\n\u001b[0;32m    115\u001b[0m     body\u001b[38;5;241m=\u001b[39mmaybe_transform(params, embedding_create_params\u001b[38;5;241m.\u001b[39mEmbeddingCreateParams),\n\u001b[0;32m    116\u001b[0m     options\u001b[38;5;241m=\u001b[39mmake_request_options(\n\u001b[0;32m    117\u001b[0m         extra_headers\u001b[38;5;241m=\u001b[39mextra_headers,\n\u001b[0;32m    118\u001b[0m         extra_query\u001b[38;5;241m=\u001b[39mextra_query,\n\u001b[0;32m    119\u001b[0m         extra_body\u001b[38;5;241m=\u001b[39mextra_body,\n\u001b[0;32m    120\u001b[0m         timeout\u001b[38;5;241m=\u001b[39mtimeout,\n\u001b[0;32m    121\u001b[0m         post_parser\u001b[38;5;241m=\u001b[39mparser,\n\u001b[0;32m    122\u001b[0m     ),\n\u001b[0;32m    123\u001b[0m     cast_to\u001b[38;5;241m=\u001b[39mCreateEmbeddingResponse,\n\u001b[0;32m    124\u001b[0m )\n",
      "File \u001b[1;32mc:\\Users\\hvand\\anaconda3\\envs\\EECS445\\Lib\\site-packages\\openai\\_base_client.py:1200\u001b[0m, in \u001b[0;36mSyncAPIClient.post\u001b[1;34m(self, path, cast_to, body, options, files, stream, stream_cls)\u001b[0m\n\u001b[0;32m   1186\u001b[0m \u001b[38;5;28;01mdef\u001b[39;00m \u001b[38;5;21mpost\u001b[39m(\n\u001b[0;32m   1187\u001b[0m     \u001b[38;5;28mself\u001b[39m,\n\u001b[0;32m   1188\u001b[0m     path: \u001b[38;5;28mstr\u001b[39m,\n\u001b[1;32m   (...)\u001b[0m\n\u001b[0;32m   1195\u001b[0m     stream_cls: \u001b[38;5;28mtype\u001b[39m[_StreamT] \u001b[38;5;241m|\u001b[39m \u001b[38;5;28;01mNone\u001b[39;00m \u001b[38;5;241m=\u001b[39m \u001b[38;5;28;01mNone\u001b[39;00m,\n\u001b[0;32m   1196\u001b[0m ) \u001b[38;5;241m-\u001b[39m\u001b[38;5;241m>\u001b[39m ResponseT \u001b[38;5;241m|\u001b[39m _StreamT:\n\u001b[0;32m   1197\u001b[0m     opts \u001b[38;5;241m=\u001b[39m FinalRequestOptions\u001b[38;5;241m.\u001b[39mconstruct(\n\u001b[0;32m   1198\u001b[0m         method\u001b[38;5;241m=\u001b[39m\u001b[38;5;124m\"\u001b[39m\u001b[38;5;124mpost\u001b[39m\u001b[38;5;124m\"\u001b[39m, url\u001b[38;5;241m=\u001b[39mpath, json_data\u001b[38;5;241m=\u001b[39mbody, files\u001b[38;5;241m=\u001b[39mto_httpx_files(files), \u001b[38;5;241m*\u001b[39m\u001b[38;5;241m*\u001b[39moptions\n\u001b[0;32m   1199\u001b[0m     )\n\u001b[1;32m-> 1200\u001b[0m     \u001b[38;5;28;01mreturn\u001b[39;00m cast(ResponseT, \u001b[38;5;28mself\u001b[39m\u001b[38;5;241m.\u001b[39mrequest(cast_to, opts, stream\u001b[38;5;241m=\u001b[39mstream, stream_cls\u001b[38;5;241m=\u001b[39mstream_cls))\n",
      "File \u001b[1;32mc:\\Users\\hvand\\anaconda3\\envs\\EECS445\\Lib\\site-packages\\openai\\_base_client.py:889\u001b[0m, in \u001b[0;36mSyncAPIClient.request\u001b[1;34m(self, cast_to, options, remaining_retries, stream, stream_cls)\u001b[0m\n\u001b[0;32m    880\u001b[0m \u001b[38;5;28;01mdef\u001b[39;00m \u001b[38;5;21mrequest\u001b[39m(\n\u001b[0;32m    881\u001b[0m     \u001b[38;5;28mself\u001b[39m,\n\u001b[0;32m    882\u001b[0m     cast_to: Type[ResponseT],\n\u001b[1;32m   (...)\u001b[0m\n\u001b[0;32m    887\u001b[0m     stream_cls: \u001b[38;5;28mtype\u001b[39m[_StreamT] \u001b[38;5;241m|\u001b[39m \u001b[38;5;28;01mNone\u001b[39;00m \u001b[38;5;241m=\u001b[39m \u001b[38;5;28;01mNone\u001b[39;00m,\n\u001b[0;32m    888\u001b[0m ) \u001b[38;5;241m-\u001b[39m\u001b[38;5;241m>\u001b[39m ResponseT \u001b[38;5;241m|\u001b[39m _StreamT:\n\u001b[1;32m--> 889\u001b[0m     \u001b[38;5;28;01mreturn\u001b[39;00m \u001b[38;5;28mself\u001b[39m\u001b[38;5;241m.\u001b[39m_request(\n\u001b[0;32m    890\u001b[0m         cast_to\u001b[38;5;241m=\u001b[39mcast_to,\n\u001b[0;32m    891\u001b[0m         options\u001b[38;5;241m=\u001b[39moptions,\n\u001b[0;32m    892\u001b[0m         stream\u001b[38;5;241m=\u001b[39mstream,\n\u001b[0;32m    893\u001b[0m         stream_cls\u001b[38;5;241m=\u001b[39mstream_cls,\n\u001b[0;32m    894\u001b[0m         remaining_retries\u001b[38;5;241m=\u001b[39mremaining_retries,\n\u001b[0;32m    895\u001b[0m     )\n",
      "File \u001b[1;32mc:\\Users\\hvand\\anaconda3\\envs\\EECS445\\Lib\\site-packages\\openai\\_base_client.py:980\u001b[0m, in \u001b[0;36mSyncAPIClient._request\u001b[1;34m(self, cast_to, options, remaining_retries, stream, stream_cls)\u001b[0m\n\u001b[0;32m    977\u001b[0m         err\u001b[38;5;241m.\u001b[39mresponse\u001b[38;5;241m.\u001b[39mread()\n\u001b[0;32m    979\u001b[0m     log\u001b[38;5;241m.\u001b[39mdebug(\u001b[38;5;124m\"\u001b[39m\u001b[38;5;124mRe-raising status error\u001b[39m\u001b[38;5;124m\"\u001b[39m)\n\u001b[1;32m--> 980\u001b[0m     \u001b[38;5;28;01mraise\u001b[39;00m \u001b[38;5;28mself\u001b[39m\u001b[38;5;241m.\u001b[39m_make_status_error_from_response(err\u001b[38;5;241m.\u001b[39mresponse) \u001b[38;5;28;01mfrom\u001b[39;00m \u001b[38;5;28;01mNone\u001b[39;00m\n\u001b[0;32m    982\u001b[0m \u001b[38;5;28;01mreturn\u001b[39;00m \u001b[38;5;28mself\u001b[39m\u001b[38;5;241m.\u001b[39m_process_response(\n\u001b[0;32m    983\u001b[0m     cast_to\u001b[38;5;241m=\u001b[39mcast_to,\n\u001b[0;32m    984\u001b[0m     options\u001b[38;5;241m=\u001b[39moptions,\n\u001b[1;32m   (...)\u001b[0m\n\u001b[0;32m    987\u001b[0m     stream_cls\u001b[38;5;241m=\u001b[39mstream_cls,\n\u001b[0;32m    988\u001b[0m )\n",
      "\u001b[1;31mNotFoundError\u001b[0m: Error code: 404 - {'error': {'code': 'DeploymentNotFound', 'message': 'The API deployment for this resource does not exist. If you created the deployment within the last 5 minutes, please wait a moment and try again.'}, 'backend-counter': '5'}"
     ]
    }
   ],
   "source": [
    "def get_embedding(text, model=\"text-embedding-3-small\"):\n",
    "   text = text.replace(\"\\n\", \" \")\n",
    "   return client.embeddings.create(input = [text], model=model).data[0].embedding\n",
    "\n",
    "df['ada_embedding'] = df.description.apply(lambda x: get_embedding(x, model='text-embedding-3-small'))\n",
    "df.to_csv('output/embedded_df', index=False)"
   ]
  },
  {
   "cell_type": "code",
   "execution_count": null,
   "metadata": {},
   "outputs": [],
   "source": []
  }
 ],
 "metadata": {
  "kernelspec": {
   "display_name": "EECS445",
   "language": "python",
   "name": "python3"
  },
  "language_info": {
   "codemirror_mode": {
    "name": "ipython",
    "version": 3
   },
   "file_extension": ".py",
   "mimetype": "text/x-python",
   "name": "python",
   "nbconvert_exporter": "python",
   "pygments_lexer": "ipython3",
   "version": "3.11.7"
  }
 },
 "nbformat": 4,
 "nbformat_minor": 2
}
