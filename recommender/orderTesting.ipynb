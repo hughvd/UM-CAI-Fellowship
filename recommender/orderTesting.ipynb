{
 "cells": [
  {
   "cell_type": "code",
   "execution_count": 1,
   "metadata": {},
   "outputs": [],
   "source": [
    "import asyncio\n",
    "import pandas as pd\n",
    "import numpy as np\n",
    "from typing import Dict, List, Optional\n",
    "import os\n",
    "from dotenv import load_dotenv\n",
    "\n",
    "# Import the recommender classes\n",
    "from orderRecommender import AsyncOpenAIClient, CosineSimilarityCalculator, EmbeddingRecommender\n",
    "\n",
    "# Import analysis\n",
    "from orderAnalysis import run_analysis\n",
    "\n",
    "# Load environment variables\n",
    "load_dotenv()\n",
    "\n",
    "# Configuration setup\n",
    "config = {\n",
    "    \"OPENAI_API_KEY\": os.getenv(\"OPENAI_API_KEY\"),\n",
    "    \"OPENAI_API_VERSION\": os.getenv(\"OPENAI_API_VERSION\"),\n",
    "    \"OPENAI_API_BASE\": os.getenv(\"OPENAI_API_BASE\"),\n",
    "    \"OPENAI_ORGANIZATION_ID\": os.getenv(\"OPENAI_ORGANIZATION_ID\"),\n",
    "    \"GENERATOR_MODEL\": os.getenv(\"GENERATOR_MODEL\", \"gpt-4\"),  # Set default if not in env\n",
    "    \"RECOMMENDER_MODEL\": os.getenv(\"RECOMMENDER_MODEL\", \"gpt-4\"),\n",
    "    \"OPENAI_EMBEDDING_MODEL\": os.getenv(\"OPENAI_EMBEDDING_MODEL\", \"text-embedding-ada-002\")\n",
    "}\n",
    "\n",
    "# Initialize components\n",
    "openai_client = AsyncOpenAIClient(config)\n",
    "similarity_calculator = CosineSimilarityCalculator()\n",
    "recModel = EmbeddingRecommender(openai_client, similarity_calculator)\n",
    "\n",
    "emb_df = pd.read_pickle('embeddings.pkl')\n",
    "undergrad = [100, 200, 300, 400, 500]\n",
    "\n",
    "recModel.load_courses(emb_df)"
   ]
  },
  {
   "cell_type": "code",
   "execution_count": 2,
   "metadata": {},
   "outputs": [
    {
     "name": "stdout",
     "output_type": "stream",
     "text": [
      "Running trial 1/10\n"
     ]
    },
    {
     "name": "stderr",
     "output_type": "stream",
     "text": [
      "INFO:httpx:HTTP Request: POST https://api.umgpt.umich.edu/azure-openai-api/openai/deployments/gpt-35-turbo/chat/completions?api-version=2024-02-01 \"HTTP/1.1 200 OK\"\n",
      "INFO:httpx:HTTP Request: POST https://api.umgpt.umich.edu/azure-openai-api/openai/deployments/text-embedding-ada-002/embeddings?api-version=2024-02-01 \"HTTP/1.1 200 OK\"\n",
      "INFO:httpx:HTTP Request: POST https://api.umgpt.umich.edu/azure-openai-api/openai/deployments/gpt-4o/chat/completions?api-version=2024-02-01 \"HTTP/1.1 200 OK\"\n"
     ]
    },
    {
     "name": "stdout",
     "output_type": "stream",
     "text": [
      "Running trial 2/10\n"
     ]
    },
    {
     "name": "stderr",
     "output_type": "stream",
     "text": [
      "INFO:httpx:HTTP Request: POST https://api.umgpt.umich.edu/azure-openai-api/openai/deployments/gpt-35-turbo/chat/completions?api-version=2024-02-01 \"HTTP/1.1 200 OK\"\n",
      "INFO:httpx:HTTP Request: POST https://api.umgpt.umich.edu/azure-openai-api/openai/deployments/text-embedding-ada-002/embeddings?api-version=2024-02-01 \"HTTP/1.1 200 OK\"\n",
      "INFO:httpx:HTTP Request: POST https://api.umgpt.umich.edu/azure-openai-api/openai/deployments/gpt-4o/chat/completions?api-version=2024-02-01 \"HTTP/1.1 200 OK\"\n"
     ]
    },
    {
     "name": "stdout",
     "output_type": "stream",
     "text": [
      "Running trial 3/10\n"
     ]
    },
    {
     "name": "stderr",
     "output_type": "stream",
     "text": [
      "INFO:httpx:HTTP Request: POST https://api.umgpt.umich.edu/azure-openai-api/openai/deployments/gpt-35-turbo/chat/completions?api-version=2024-02-01 \"HTTP/1.1 200 OK\"\n",
      "INFO:httpx:HTTP Request: POST https://api.umgpt.umich.edu/azure-openai-api/openai/deployments/text-embedding-ada-002/embeddings?api-version=2024-02-01 \"HTTP/1.1 200 OK\"\n",
      "INFO:httpx:HTTP Request: POST https://api.umgpt.umich.edu/azure-openai-api/openai/deployments/gpt-4o/chat/completions?api-version=2024-02-01 \"HTTP/1.1 200 OK\"\n"
     ]
    },
    {
     "name": "stdout",
     "output_type": "stream",
     "text": [
      "Running trial 4/10\n"
     ]
    },
    {
     "name": "stderr",
     "output_type": "stream",
     "text": [
      "INFO:httpx:HTTP Request: POST https://api.umgpt.umich.edu/azure-openai-api/openai/deployments/gpt-35-turbo/chat/completions?api-version=2024-02-01 \"HTTP/1.1 200 OK\"\n",
      "INFO:httpx:HTTP Request: POST https://api.umgpt.umich.edu/azure-openai-api/openai/deployments/text-embedding-ada-002/embeddings?api-version=2024-02-01 \"HTTP/1.1 200 OK\"\n",
      "INFO:httpx:HTTP Request: POST https://api.umgpt.umich.edu/azure-openai-api/openai/deployments/gpt-4o/chat/completions?api-version=2024-02-01 \"HTTP/1.1 200 OK\"\n"
     ]
    },
    {
     "name": "stdout",
     "output_type": "stream",
     "text": [
      "Running trial 5/10\n"
     ]
    },
    {
     "name": "stderr",
     "output_type": "stream",
     "text": [
      "INFO:httpx:HTTP Request: POST https://api.umgpt.umich.edu/azure-openai-api/openai/deployments/gpt-35-turbo/chat/completions?api-version=2024-02-01 \"HTTP/1.1 200 OK\"\n",
      "INFO:httpx:HTTP Request: POST https://api.umgpt.umich.edu/azure-openai-api/openai/deployments/text-embedding-ada-002/embeddings?api-version=2024-02-01 \"HTTP/1.1 200 OK\"\n",
      "INFO:httpx:HTTP Request: POST https://api.umgpt.umich.edu/azure-openai-api/openai/deployments/gpt-4o/chat/completions?api-version=2024-02-01 \"HTTP/1.1 200 OK\"\n"
     ]
    },
    {
     "name": "stdout",
     "output_type": "stream",
     "text": [
      "Running trial 6/10\n"
     ]
    },
    {
     "name": "stderr",
     "output_type": "stream",
     "text": [
      "INFO:httpx:HTTP Request: POST https://api.umgpt.umich.edu/azure-openai-api/openai/deployments/gpt-35-turbo/chat/completions?api-version=2024-02-01 \"HTTP/1.1 200 OK\"\n",
      "INFO:httpx:HTTP Request: POST https://api.umgpt.umich.edu/azure-openai-api/openai/deployments/text-embedding-ada-002/embeddings?api-version=2024-02-01 \"HTTP/1.1 200 OK\"\n",
      "INFO:httpx:HTTP Request: POST https://api.umgpt.umich.edu/azure-openai-api/openai/deployments/gpt-4o/chat/completions?api-version=2024-02-01 \"HTTP/1.1 200 OK\"\n"
     ]
    },
    {
     "name": "stdout",
     "output_type": "stream",
     "text": [
      "Running trial 7/10\n"
     ]
    },
    {
     "name": "stderr",
     "output_type": "stream",
     "text": [
      "INFO:httpx:HTTP Request: POST https://api.umgpt.umich.edu/azure-openai-api/openai/deployments/gpt-35-turbo/chat/completions?api-version=2024-02-01 \"HTTP/1.1 200 OK\"\n",
      "INFO:httpx:HTTP Request: POST https://api.umgpt.umich.edu/azure-openai-api/openai/deployments/text-embedding-ada-002/embeddings?api-version=2024-02-01 \"HTTP/1.1 200 OK\"\n",
      "INFO:httpx:HTTP Request: POST https://api.umgpt.umich.edu/azure-openai-api/openai/deployments/gpt-4o/chat/completions?api-version=2024-02-01 \"HTTP/1.1 200 OK\"\n"
     ]
    },
    {
     "name": "stdout",
     "output_type": "stream",
     "text": [
      "Running trial 8/10\n"
     ]
    },
    {
     "name": "stderr",
     "output_type": "stream",
     "text": [
      "INFO:httpx:HTTP Request: POST https://api.umgpt.umich.edu/azure-openai-api/openai/deployments/gpt-35-turbo/chat/completions?api-version=2024-02-01 \"HTTP/1.1 200 OK\"\n",
      "INFO:httpx:HTTP Request: POST https://api.umgpt.umich.edu/azure-openai-api/openai/deployments/text-embedding-ada-002/embeddings?api-version=2024-02-01 \"HTTP/1.1 200 OK\"\n",
      "INFO:httpx:HTTP Request: POST https://api.umgpt.umich.edu/azure-openai-api/openai/deployments/gpt-4o/chat/completions?api-version=2024-02-01 \"HTTP/1.1 200 OK\"\n"
     ]
    },
    {
     "name": "stdout",
     "output_type": "stream",
     "text": [
      "Running trial 9/10\n"
     ]
    },
    {
     "name": "stderr",
     "output_type": "stream",
     "text": [
      "INFO:httpx:HTTP Request: POST https://api.umgpt.umich.edu/azure-openai-api/openai/deployments/gpt-35-turbo/chat/completions?api-version=2024-02-01 \"HTTP/1.1 200 OK\"\n",
      "INFO:httpx:HTTP Request: POST https://api.umgpt.umich.edu/azure-openai-api/openai/deployments/text-embedding-ada-002/embeddings?api-version=2024-02-01 \"HTTP/1.1 200 OK\"\n",
      "INFO:httpx:HTTP Request: POST https://api.umgpt.umich.edu/azure-openai-api/openai/deployments/gpt-4o/chat/completions?api-version=2024-02-01 \"HTTP/1.1 200 OK\"\n"
     ]
    },
    {
     "name": "stdout",
     "output_type": "stream",
     "text": [
      "Running trial 10/10\n"
     ]
    },
    {
     "name": "stderr",
     "output_type": "stream",
     "text": [
      "INFO:httpx:HTTP Request: POST https://api.umgpt.umich.edu/azure-openai-api/openai/deployments/gpt-35-turbo/chat/completions?api-version=2024-02-01 \"HTTP/1.1 200 OK\"\n",
      "INFO:httpx:HTTP Request: POST https://api.umgpt.umich.edu/azure-openai-api/openai/deployments/text-embedding-ada-002/embeddings?api-version=2024-02-01 \"HTTP/1.1 200 OK\"\n",
      "INFO:httpx:HTTP Request: POST https://api.umgpt.umich.edu/azure-openai-api/openai/deployments/gpt-4o/chat/completions?api-version=2024-02-01 \"HTTP/1.1 200 OK\"\n"
     ]
    },
    {
     "data": {
      "image/png": "[encoded data removed]",
      "text/plain": [
       "<Figure size 1500x600 with 1 Axes>"
      ]
     },
     "metadata": {},
     "output_type": "display_data"
    },
    {
     "name": "stdout",
     "output_type": "stream",
     "text": [
      "\n",
      "Summary Statistics:\n",
      "Total recommendations: 100\n",
      "Unique ranks recommended: 20\n",
      "Most frequently recommended rank: 0\n",
      "Average rank: 14.70\n"
     ]
    }
   ],
   "source": [
    "results = await run_analysis(\n",
    "    recommender=recModel,\n",
    "    query=\"I am interested in machine learning\",\n",
    "    n_trials=10\n",
    ")"
   ]
  },
  {
   "cell_type": "code",
   "execution_count": null,
   "metadata": {},
   "outputs": [],
   "source": []
  }
 ],
 "metadata": {
  "kernelspec": {
   "display_name": "EECS445",
   "language": "python",
   "name": "python3"
  },
  "language_info": {
   "codemirror_mode": {
    "name": "ipython",
    "version": 3
   },
   "file_extension": ".py",
   "mimetype": "text/x-python",
   "name": "python",
   "nbconvert_exporter": "python",
   "pygments_lexer": "ipython3",
   "version": "3.11.7"
  }
 },
 "nbformat": 4,
 "nbformat_minor": 2
}
